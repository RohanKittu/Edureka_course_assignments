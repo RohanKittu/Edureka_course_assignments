{
 "cells": [
  {
   "cell_type": "markdown",
   "metadata": {},
   "source": [
    "\n",
    "##### focus –OptimizationBusiness \n",
    "\n",
    "- challenge/requirementLifeTel  Telecomis the latest entrant in the highly competitive Telecom market of Singapore.  It issues SIM to the verified users.  Till now verification was manual through the photocopy of approved id card document. However government has recently introduced Social ID called Reference ID which is mapped to fingerprint of user.LifeTel should now verify user against the fingerprint and Reference IDKey issuesBuild a system where when user enters Reference ID it is encrypted, so that hackers cannot view the mapping of Reference ID and finger printConsiderationsSystem should be secureData volume-NAAdditional information-NABusiness benefitsCompany will be able to quickly issue SIM to user and expected gain in volume is approximately 10 times as the manual process of verification is replaced with secure automated systemApproach to SolveYou have to use fundamentals of Python taught in module 21.Read the input from command line –Reference ID2.Check for validity –it should be 12 digits and allows on number and alphabet"
   ]
  },
  {
   "cell_type": "markdown",
   "metadata": {},
   "source": [
    "Approach to SolveYou have to use fundamentals of Python taught in module 2\n",
    "- Read the input from command line –Reference ID\n",
    "- Check for validity –it should be 12 digits and allows on number and alphabet\n",
    "- Encrypt the Reference ID and print it for referenceEnhancements \n",
    "\n",
    "for codeYou can try these enhancements in code\n",
    "- Allow some special characters in ReferenceID2.Give the option for decryption to user "
   ]
  },
  {
   "cell_type": "code",
   "execution_count": 16,
   "metadata": {},
   "outputs": [
    {
     "name": "stdout",
     "output_type": "stream",
     "text": [
      "\n",
      "Enter the valied reference ID :- rohanvarmasm\n",
      "\n",
      "The encoded reference id is :-  b'rohanvarmasm'\n",
      "Do you want to decode the encoded reference ID (yes/no)yes\n",
      "The Decoded refernce code is :-  rohanvarmasm\n"
     ]
    }
   ],
   "source": [
    "#program to build printConsiderationsSystem.\n",
    "refid=input(\"\\nEnter the valied reference ID :- \")\n",
    "wrong=True\n",
    "while(wrong==True):\n",
    "    if(len(list(refid))==12):\n",
    "        wrong=False\n",
    "    else:\n",
    "        print(\"!Wrong reference ID\")\n",
    "        refid=input(\"\\nRe-Enter the reference ID :- \")\n",
    "x=refid.encode('ascii', \"replace\") \n",
    "print(\"\\nThe encoded reference id is :- \",x)\n",
    "if(input(\"Do you want to decode the encoded reference ID (yes/no) :- \")=='yes'):\n",
    "    print(\"The Decoded refernce code is :- \",x.decode('ascii', \"replace\"))"
   ]
  }
 ],
 "metadata": {
  "kernelspec": {
   "display_name": "Python 3",
   "language": "python",
   "name": "python3"
  },
  "language_info": {
   "codemirror_mode": {
    "name": "ipython",
    "version": 3
   },
   "file_extension": ".py",
   "mimetype": "text/x-python",
   "name": "python",
   "nbconvert_exporter": "python",
   "pygments_lexer": "ipython3",
   "version": "3.7.3"
  }
 },
 "nbformat": 4,
 "nbformat_minor": 2
}
