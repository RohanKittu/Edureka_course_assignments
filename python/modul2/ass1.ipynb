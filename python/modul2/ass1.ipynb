{
 "cells": [
  {
   "cell_type": "markdown",
   "metadata": {},
   "source": [
    "# Module 2: Sequences and File Operations Case Study I "
   ]
  },
  {
   "cell_type": "markdown",
   "metadata": {},
   "source": [
    "## Question"
   ]
  },
  {
   "cell_type": "markdown",
   "metadata": {},
   "source": [
    "##### What is the output of the following code?  nums = set([1,1,2,3,3,3,4,4])  print(len(nums)) \n",
    "Hint: Set consists unique element"
   ]
  },
  {
   "cell_type": "markdown",
   "metadata": {},
   "source": [
    "note :- sets data structure will not take duplicate elements."
   ]
  },
  {
   "cell_type": "code",
   "execution_count": 2,
   "metadata": {},
   "outputs": [
    {
     "name": "stdout",
     "output_type": "stream",
     "text": [
      "{1, 2, 3, 4}\n",
      "4\n"
     ]
    }
   ],
   "source": [
    "nums=set([1,1,2,3,3,3,4,4])\n",
    "print(nums)\n",
    "print(len(nums))"
   ]
  },
  {
   "cell_type": "markdown",
   "metadata": {},
   "source": [
    "#####  What will be the output? d = {\"john\":40, \"peter\":45} print(list(d.keys())) \n",
    "Hint:  d.keys() is the function which  will show keys. "
   ]
  },
  {
   "cell_type": "code",
   "execution_count": 3,
   "metadata": {},
   "outputs": [
    {
     "name": "stdout",
     "output_type": "stream",
     "text": [
      "['john', 'peter']\n"
     ]
    }
   ],
   "source": [
    "d= {\"john\":40, \"peter\":45} \n",
    "print(list(d.keys()))"
   ]
  },
  {
   "cell_type": "markdown",
   "metadata": {},
   "source": [
    "3. A website requires a user to input username and password to register. Write a program to check the validity of password given by user. Following are the criteria for checking password:  \n",
    "At least 1 letter between [a-z] \n",
    "At least 1 number between [0-9]  \n",
    "At least 1 letter between [A-Z]  \n",
    "At least 1 character from [$#@]  \n",
    "Minimum length of transaction password: 6  5. \n",
    "Maximum length of transaction password: 12   \n",
    "Hint: In case of input data being supplied to the question, it should be assumed to be a console input. "
   ]
  },
  {
   "cell_type": "code",
   "execution_count": 3,
   "metadata": {},
   "outputs": [
    {
     "name": "stdout",
     "output_type": "stream",
     "text": [
      "Enter your details \n",
      "\n",
      "Enter your name :- howlejaffa\n",
      "\n",
      "Enter you password :- rohan\n",
      "Invalied password size \n",
      "Note:-The password size should be greater or equale to 6 and less than equal to 12\n",
      "\n",
      "Re-Enter you password :- rohanjaffa\n",
      "Invalied password \n",
      "The password should contain atleast At  1 letter between [a-z] , 1 number between [0-9] , 1 letter between [A-Z]A, 1 special charactor\n",
      "\n",
      " Re-Enter you password :- rohan@jaffa\n",
      "Invalied password \n",
      "The password should contain atleast At  1 letter between [a-z] , 1 number between [0-9] , 1 letter between [A-Z]A, 1 special charactor\n",
      "\n",
      " Re-Enter you password :- rohan@123\n",
      "Invalied password \n",
      "The password should contain atleast At  1 letter between [a-z] , 1 number between [0-9] , 1 letter between [A-Z]A, 1 special charactor\n",
      "\n",
      " Re-Enter you password :- Rohan@123\n",
      "\n",
      "The password is valied\n"
     ]
    }
   ],
   "source": [
    "#checking the validity of the password\n",
    "import re\n",
    "print(\"Enter your details \")\n",
    "user_name=input(\"\\nEnter your name :- \")\n",
    "password=input(\"\\nEnter you password :- \")\n",
    "digit=0\n",
    "captial=0\n",
    "small=0\n",
    "special_charactor=0\n",
    "regex = re.compile('[@_!#$%^&*()<>?/\\|}{~:]')\n",
    "x=False\n",
    "while(x==False):\n",
    "    if(len(password)<=12 and len(password)>=6):\n",
    "        for i in list(range(0,len(list(password)))):\n",
    "            if(list(password)[i].isdigit()==True):\n",
    "                #print(\"digit\")\n",
    "                digit=digit+1\n",
    "            elif(list(password)[i].isupper()==True):\n",
    "                #print(\"captial\")\n",
    "                captial=captial+1\n",
    "            elif(list(password)[i].islower()==True):\n",
    "                #print(\"small\")\n",
    "                small=small+1\n",
    "            elif((regex.findall(list(password)[i]) == [])==False):\n",
    "                #print(\"special charactor\")\n",
    "                special_charactor=special_charactor+1\n",
    "            else:\n",
    "                pass\n",
    "        if((digit < 1)==True or (captial < 1)==True or (small<1)==True or (special_charactor<1)==True):\n",
    "            print(\"Invalied password \\nThe password should contain atleast At  1 letter between [a-z] , 1 number between [0-9] , 1 letter between [A-Z]A, 1 special charactor\")\n",
    "            password=input(\"\\n Re-Enter you password :- \")\n",
    "        else:\n",
    "            print(\"\\nThe password is valied\")\n",
    "            x=True\n",
    "    else:\n",
    "        print(\"Invalied password size \\nNote:-The password size should be greater or equale to 6 and less than equal to 12\")\n",
    "        password=input(\"\\nRe-Enter you password :- \")"
   ]
  },
  {
   "cell_type": "markdown",
   "metadata": {},
   "source": [
    "##### 4. Write a for loop that prints all elements of a list and their position in the list. \n",
    " \n",
    "      a = [4,7,3,2,5,9]  Hint: Use Loop to iterate through list elements"
   ]
  },
  {
   "cell_type": "code",
   "execution_count": 5,
   "metadata": {},
   "outputs": [
    {
     "name": "stdout",
     "output_type": "stream",
     "text": [
      "The element is 4 and the position is 0\n",
      "The element is 7 and the position is 1\n",
      "The element is 3 and the position is 2\n",
      "The element is 2 and the position is 3\n",
      "The element is 5 and the position is 4\n",
      "The element is 9 and the position is 5\n"
     ]
    }
   ],
   "source": [
    "a=[4,7,3,2,5,9]\n",
    "count=0\n",
    "for i in a:\n",
    "    print(\"The element is %d and the position is %d\"%(i,count))\n",
    "    count+=1"
   ]
  },
  {
   "cell_type": "markdown",
   "metadata": {},
   "source": [
    "##### 5. Please write a program which accepts a string from console and print the characters that have even indexes.              Example: If the following string is given as input to the program:              H1e2l3l4o5w6o7r8l9d              Then, the output of the program should be:              Helloworld \n"
   ]
  },
  {
   "cell_type": "code",
   "execution_count": 23,
   "metadata": {
    "scrolled": true
   },
   "outputs": [
    {
     "name": "stdout",
     "output_type": "stream",
     "text": [
      "\n",
      "Enter the string :- H1e2l3l4o5w6o7r8l9d \n",
      "Helloworld \n"
     ]
    }
   ],
   "source": [
    "string=input(\"\\nEnter the string :- \")\n",
    "lis=[]\n",
    "for i in range(0,len(list(string))):\n",
    "    if(list(string)[i].isdigit()==False):\n",
    "      lis.append(list(string)[i])\n",
    "print(''.join(lis))"
   ]
  },
  {
   "cell_type": "markdown",
   "metadata": {},
   "source": [
    "##### 6. Please write a program which accepts a string from console and print it in reverse order.              Example: If the following string is given as input to the program:               rise to vote sir             Then, the output of the program should be:              ris etov ot esir "
   ]
  },
  {
   "cell_type": "code",
   "execution_count": 25,
   "metadata": {},
   "outputs": [
    {
     "name": "stdout",
     "output_type": "stream",
     "text": [
      "\n",
      "Enter the string :- rohan\n",
      "The reverse of the string is :- nahor\n"
     ]
    }
   ],
   "source": [
    "string=input(\"\\nEnter the string :- \")\n",
    "print(\"The reverse of the string is :- %s\"%(string[::-1]))"
   ]
  },
  {
   "cell_type": "markdown",
   "metadata": {},
   "source": [
    "##### 7. Please write a program which count and print the numbers of each character in a string input by console.             Example: If the following string is given as input to the program:            abcdefgabc            Then, the output of the program should be: a,2 c,2 b,2 e,1 d,1 g,1 f,1 "
   ]
  },
  {
   "cell_type": "code",
   "execution_count": 21,
   "metadata": {},
   "outputs": [
    {
     "name": "stdout",
     "output_type": "stream",
     "text": [
      "\n",
      "Enter the string :- rooohaaann\n",
      "['r', 'o', 'a']\n",
      "[1, 3, 3]\n"
     ]
    }
   ],
   "source": [
    "string=input(\"\\nEnter the string :- \")\n",
    "count=[]\n",
    "al=[]\n",
    "lis=list(string)\n",
    "for i in lis:\n",
    "    co=0\n",
    "    if(i in lis):\n",
    "        for j in lis: \n",
    "            if(i==j):\n",
    "                co+=1\n",
    "                if(co==1):\n",
    "                    al.append(i)\n",
    "    while(i in lis):\n",
    "        lis.remove(i)\n",
    "    count.append(co)\n",
    "    #print(\"lenght\",len(lis))\n",
    "print(al)\n",
    "print(count)            "
   ]
  },
  {
   "cell_type": "markdown",
   "metadata": {},
   "source": [
    "##### 8) With two given lists [1,3,6,78,35,55] and [12,24,35,24,88,120,155], write a program to make a list whose elements are intersection of the above given lists. "
   ]
  },
  {
   "cell_type": "code",
   "execution_count": 19,
   "metadata": {},
   "outputs": [
    {
     "name": "stdout",
     "output_type": "stream",
     "text": [
      "The intersection of : [1, 3, 6, 78, 35, 55] and [12, 24, 35, 24, 88, 120, 155] is :-  [35]\n"
     ]
    }
   ],
   "source": [
    "lis1=[1,3,6,78,35,55]\n",
    "lis2=[12,24,35,24,88,120,155]\n",
    "lis3=[]\n",
    "for i in lis1:\n",
    "    if((i in lis2)==True):\n",
    "        #print(i)\n",
    "        lis3.append(i)\n",
    "print(\"The intersection of :\",lis1,\"and\",lis2,\"is :- \",lis3)"
   ]
  },
  {
   "cell_type": "markdown",
   "metadata": {},
   "source": [
    "##### 9. With a given list [12,24,35,24,88,120,155,88,120,155], write a program to print this list after removing all duplicate values with original order reserved. "
   ]
  },
  {
   "cell_type": "code",
   "execution_count": 20,
   "metadata": {},
   "outputs": [
    {
     "name": "stdout",
     "output_type": "stream",
     "text": [
      "After removing duplicate elements :-  [12, 35, 24, 88, 120, 155]\n"
     ]
    }
   ],
   "source": [
    "x=[12,24,35,24,88,120,155,88,120,155]\n",
    "count=0\n",
    "for i in x:\n",
    "    count=0\n",
    "    for j in x:\n",
    "        if(i==j):\n",
    "            count+=1\n",
    "            if(count>1):\n",
    "                x.remove(i)\n",
    "            else:\n",
    "                pass\n",
    "        else:\n",
    "            pass\n",
    "print(\"After removing duplicate elements :- \",x)"
   ]
  },
  {
   "cell_type": "markdown",
   "metadata": {},
   "source": [
    "##### 10. By using list comprehension, please write a program to print the list after removing the value 24 in [12,24,35,24,88,120,155]. "
   ]
  },
  {
   "cell_type": "code",
   "execution_count": 22,
   "metadata": {},
   "outputs": [
    {
     "name": "stdout",
     "output_type": "stream",
     "text": [
      "The list after removing 24 is :-  [12, 35, 88, 120, 155]\n"
     ]
    }
   ],
   "source": [
    "x=[12,24,35,24,88,120,155]\n",
    "for i in x:\n",
    "    if(i == 24):\n",
    "        x.remove(24)\n",
    "print(\"The list after removing\",24,\"is :- \",x)"
   ]
  },
  {
   "cell_type": "markdown",
   "metadata": {},
   "source": [
    "##### 11. By using list comprehension, please write a program to print the list after removing the 0th,4th,5th numbers in [12,24,35,70,88,120,155]. "
   ]
  },
  {
   "cell_type": "code",
   "execution_count": 27,
   "metadata": {},
   "outputs": [
    {
     "name": "stdout",
     "output_type": "stream",
     "text": [
      "The list after removing the 0th,4th,5th numbers in [12,24,35,70,88,120,155] is :-  [24, 35, 70, 88, 155]\n"
     ]
    }
   ],
   "source": [
    "x=[12,24,35,70,88,120,155]\n",
    "for i in x:\n",
    "    if(x.index(i)==0 or x.index(i)==4 or x.index(i)==5):\n",
    "        x.remove(i)\n",
    "print('The list after removing the 0th,4th,5th numbers in [12,24,35,70,88,120,155] is :- ',x)"
   ]
  },
  {
   "cell_type": "markdown",
   "metadata": {},
   "source": [
    "##### 12. By using list comprehension, please write a program to print the list after removing delete numbers which are divisible by 5 and 7 in [12,24,35,70,88,120,155]. "
   ]
  },
  {
   "cell_type": "code",
   "execution_count": 28,
   "metadata": {},
   "outputs": [
    {
     "name": "stdout",
     "output_type": "stream",
     "text": [
      "The list after removing the numbers which are divisible by 5 and 7 is :-  [12, 24, 70, 88, 120, 155]\n"
     ]
    }
   ],
   "source": [
    "x=[12,24,35,70,88,120,155]\n",
    "for i in x:\n",
    "    if(i%5==0 and i%7==0):\n",
    "        x.remove(i)\n",
    "print(\"The list after removing the numbers which are divisible by 5 and 7 is :- \",x)"
   ]
  },
  {
   "cell_type": "markdown",
   "metadata": {},
   "source": [
    "##### 13. Please write a program to randomly generate a list with 5 numbers, which are divisible by 5 and 7 , between 1 and 1000 inclusive. "
   ]
  },
  {
   "cell_type": "code",
   "execution_count": 32,
   "metadata": {},
   "outputs": [
    {
     "name": "stdout",
     "output_type": "stream",
     "text": [
      "The list with random numbers which are divisible by 5 and 7 between 1 and 1000 are :- [805, 770, 350, 700, 875]\n"
     ]
    }
   ],
   "source": [
    "import random\n",
    "lis=[]\n",
    "count=0\n",
    "while(count<=4):\n",
    "    x=random.randint(1,1000)\n",
    "    if(x%5==0 and x%7==0):\n",
    "        lis.append(x)\n",
    "        count+=1\n",
    "print(\"The list with random numbers which are divisible by 5 and 7 between 1 and 1000 are :-\",lis)"
   ]
  },
  {
   "cell_type": "markdown",
   "metadata": {},
   "source": [
    "##### 14. Write a program to compute 1/2+2/3+3/4+...+n/n+1 with a given n input by console (n>0). Example: If the following n is given as input to the program: 5 Then, the output of the program should be: 3.55 "
   ]
  },
  {
   "cell_type": "code",
   "execution_count": 40,
   "metadata": {},
   "outputs": [
    {
     "name": "stdout",
     "output_type": "stream",
     "text": [
      "\n",
      "Enter the value of n :- 5\n",
      "The input N is  5 the output is 3.55\n"
     ]
    }
   ],
   "source": [
    "def truncate(n, decimals=0):\n",
    "    multiplier = 10 ** decimals\n",
    "    return int(n * multiplier) / multiplier\n",
    "\n",
    "n=int(input(\"\\nEnter the value of n :- \"))\n",
    "sum=0\n",
    "if(n==0):\n",
    "    print(\"\\nPlease enter the number greater than 0\")\n",
    "else:\n",
    "    for i in range(1,n+1):\n",
    "        sum+=(i/(i+1))\n",
    "print(\"The input N is \",n,\"the output is\",truncate(sum, 2))"
   ]
  },
  {
   "cell_type": "markdown",
   "metadata": {},
   "source": [
    "##### The End of the Assignment"
   ]
  }
 ],
 "metadata": {
  "kernelspec": {
   "display_name": "Python 3",
   "language": "python",
   "name": "python3"
  },
  "language_info": {
   "codemirror_mode": {
    "name": "ipython",
    "version": 3
   },
   "file_extension": ".py",
   "mimetype": "text/x-python",
   "name": "python",
   "nbconvert_exporter": "python",
   "pygments_lexer": "ipython3",
   "version": "3.7.3"
  }
 },
 "nbformat": 4,
 "nbformat_minor": 2
}
