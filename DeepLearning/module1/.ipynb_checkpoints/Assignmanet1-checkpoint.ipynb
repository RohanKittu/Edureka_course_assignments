{
 "cells": [
  {
   "cell_type": "markdown",
   "metadata": {},
   "source": [
    "# Assignment\n",
    "AssignmentInstall TensorFlow on your system, after installing the framework, Solve the below mentioned problem statement.A Prime equity fund has hired you as a data scientist to analyse the data of 50 potential investee companies and create a model that will find the type of companies that he should invest in to maximize the profit.They want to see which types of companies perform better, for eg -a company which spends on marketing or which spends more on R&D."
   ]
  },
  {
   "cell_type": "markdown",
   "metadata": {},
   "source": [
    "Columninformation:\n",
    "- •R&D spend-Research and Development expenditureof respective company.\n",
    "- •Administration-Administration expenditure of respective company.\n",
    "- •Marketing Spend-Marketing Spend of respective company.\n",
    "- •State-Location of company.\n",
    "- •Profit-Annual profit of respective company"
   ]
  },
  {
   "cell_type": "markdown",
   "metadata": {},
   "source": [
    "### Task 1"
   ]
  },
  {
   "cell_type": "markdown",
   "metadata": {},
   "source": [
    "- InstallTensorFlowon your system\n",
    "- Run a hello world command"
   ]
  },
  {
   "cell_type": "code",
   "execution_count": 69,
   "metadata": {},
   "outputs": [
    {
     "name": "stdout",
     "output_type": "stream",
     "text": [
      "Tensor(\"Const_2:0\", shape=(), dtype=string)\n"
     ]
    }
   ],
   "source": [
    "import tensorflow as tf\n",
    "var = tf.constant(\"hello world\")\n",
    "print(var)"
   ]
  },
  {
   "cell_type": "code",
   "execution_count": 70,
   "metadata": {},
   "outputs": [
    {
     "name": "stdout",
     "output_type": "stream",
     "text": [
      "b'hello world'\n"
     ]
    }
   ],
   "source": [
    "session = tf.Session()\n",
    "print(str(session.run(var)))"
   ]
  },
  {
   "cell_type": "markdown",
   "metadata": {},
   "source": [
    "## Task 2"
   ]
  },
  {
   "cell_type": "code",
   "execution_count": 71,
   "metadata": {},
   "outputs": [],
   "source": [
    "import pandas as pd\n",
    "data = pd.read_csv(\"50_Startups.csv\")"
   ]
  },
  {
   "cell_type": "code",
   "execution_count": 72,
   "metadata": {},
   "outputs": [
    {
     "name": "stdout",
     "output_type": "stream",
     "text": [
      "<class 'pandas.core.frame.DataFrame'>\n",
      "RangeIndex: 50 entries, 0 to 49\n",
      "Data columns (total 5 columns):\n",
      "R&D Spend          50 non-null float64\n",
      "Administration     50 non-null float64\n",
      "Marketing Spend    50 non-null float64\n",
      "State              50 non-null object\n",
      "Profit             50 non-null float64\n",
      "dtypes: float64(4), object(1)\n",
      "memory usage: 2.1+ KB\n"
     ]
    }
   ],
   "source": [
    "data.info()"
   ]
  },
  {
   "cell_type": "markdown",
   "metadata": {},
   "source": [
    "## EDA"
   ]
  },
  {
   "cell_type": "code",
   "execution_count": 73,
   "metadata": {},
   "outputs": [
    {
     "data": {
      "text/html": [
       "<div>\n",
       "<style scoped>\n",
       "    .dataframe tbody tr th:only-of-type {\n",
       "        vertical-align: middle;\n",
       "    }\n",
       "\n",
       "    .dataframe tbody tr th {\n",
       "        vertical-align: top;\n",
       "    }\n",
       "\n",
       "    .dataframe thead th {\n",
       "        text-align: right;\n",
       "    }\n",
       "</style>\n",
       "<table border=\"1\" class=\"dataframe\">\n",
       "  <thead>\n",
       "    <tr style=\"text-align: right;\">\n",
       "      <th></th>\n",
       "      <th>R&amp;D Spend</th>\n",
       "      <th>Administration</th>\n",
       "      <th>Marketing Spend</th>\n",
       "      <th>Profit</th>\n",
       "    </tr>\n",
       "  </thead>\n",
       "  <tbody>\n",
       "    <tr>\n",
       "      <th>0</th>\n",
       "      <td>165349.2</td>\n",
       "      <td>136897.80</td>\n",
       "      <td>471784.10</td>\n",
       "      <td>192261.83</td>\n",
       "    </tr>\n",
       "    <tr>\n",
       "      <th>1</th>\n",
       "      <td>162597.7</td>\n",
       "      <td>151377.59</td>\n",
       "      <td>443898.53</td>\n",
       "      <td>191792.06</td>\n",
       "    </tr>\n",
       "  </tbody>\n",
       "</table>\n",
       "</div>"
      ],
      "text/plain": [
       "   R&D Spend  Administration  Marketing Spend     Profit\n",
       "0   165349.2       136897.80        471784.10  192261.83\n",
       "1   162597.7       151377.59        443898.53  191792.06"
      ]
     },
     "execution_count": 73,
     "metadata": {},
     "output_type": "execute_result"
    }
   ],
   "source": [
    "data[['R&D Spend','Administration','Marketing Spend','Profit']].head(2)"
   ]
  },
  {
   "cell_type": "code",
   "execution_count": 74,
   "metadata": {},
   "outputs": [
    {
     "data": {
      "text/html": [
       "<style  type=\"text/css\" >\n",
       "    #T_4db0e718_91b1_11ea_a38b_38f9d36215cerow0_col0 {\n",
       "            background-color:  #b40426;\n",
       "            color:  #f1f1f1;\n",
       "        }    #T_4db0e718_91b1_11ea_a38b_38f9d36215cerow0_col1 {\n",
       "            background-color:  #92b4fe;\n",
       "            color:  #000000;\n",
       "        }    #T_4db0e718_91b1_11ea_a38b_38f9d36215cerow0_col2 {\n",
       "            background-color:  #f5a081;\n",
       "            color:  #000000;\n",
       "        }    #T_4db0e718_91b1_11ea_a38b_38f9d36215cerow0_col3 {\n",
       "            background-color:  #c0282f;\n",
       "            color:  #f1f1f1;\n",
       "        }    #T_4db0e718_91b1_11ea_a38b_38f9d36215cerow1_col0 {\n",
       "            background-color:  #3b4cc0;\n",
       "            color:  #f1f1f1;\n",
       "        }    #T_4db0e718_91b1_11ea_a38b_38f9d36215cerow1_col1 {\n",
       "            background-color:  #b40426;\n",
       "            color:  #f1f1f1;\n",
       "        }    #T_4db0e718_91b1_11ea_a38b_38f9d36215cerow1_col2 {\n",
       "            background-color:  #3b4cc0;\n",
       "            color:  #f1f1f1;\n",
       "        }    #T_4db0e718_91b1_11ea_a38b_38f9d36215cerow1_col3 {\n",
       "            background-color:  #3b4cc0;\n",
       "            color:  #f1f1f1;\n",
       "        }    #T_4db0e718_91b1_11ea_a38b_38f9d36215cerow2_col0 {\n",
       "            background-color:  #f5c1a9;\n",
       "            color:  #000000;\n",
       "        }    #T_4db0e718_91b1_11ea_a38b_38f9d36215cerow2_col1 {\n",
       "            background-color:  #3b4cc0;\n",
       "            color:  #f1f1f1;\n",
       "        }    #T_4db0e718_91b1_11ea_a38b_38f9d36215cerow2_col2 {\n",
       "            background-color:  #b40426;\n",
       "            color:  #f1f1f1;\n",
       "        }    #T_4db0e718_91b1_11ea_a38b_38f9d36215cerow2_col3 {\n",
       "            background-color:  #f7b194;\n",
       "            color:  #000000;\n",
       "        }    #T_4db0e718_91b1_11ea_a38b_38f9d36215cerow3_col0 {\n",
       "            background-color:  #c12b30;\n",
       "            color:  #f1f1f1;\n",
       "        }    #T_4db0e718_91b1_11ea_a38b_38f9d36215cerow3_col1 {\n",
       "            background-color:  #84a7fc;\n",
       "            color:  #000000;\n",
       "        }    #T_4db0e718_91b1_11ea_a38b_38f9d36215cerow3_col2 {\n",
       "            background-color:  #f39778;\n",
       "            color:  #000000;\n",
       "        }    #T_4db0e718_91b1_11ea_a38b_38f9d36215cerow3_col3 {\n",
       "            background-color:  #b40426;\n",
       "            color:  #f1f1f1;\n",
       "        }</style><table id=\"T_4db0e718_91b1_11ea_a38b_38f9d36215ce\" ><thead>    <tr>        <th class=\"blank level0\" ></th>        <th class=\"col_heading level0 col0\" >R&D Spend</th>        <th class=\"col_heading level0 col1\" >Administration</th>        <th class=\"col_heading level0 col2\" >Marketing Spend</th>        <th class=\"col_heading level0 col3\" >Profit</th>    </tr></thead><tbody>\n",
       "                <tr>\n",
       "                        <th id=\"T_4db0e718_91b1_11ea_a38b_38f9d36215celevel0_row0\" class=\"row_heading level0 row0\" >R&D Spend</th>\n",
       "                        <td id=\"T_4db0e718_91b1_11ea_a38b_38f9d36215cerow0_col0\" class=\"data row0 col0\" >1</td>\n",
       "                        <td id=\"T_4db0e718_91b1_11ea_a38b_38f9d36215cerow0_col1\" class=\"data row0 col1\" >0.24</td>\n",
       "                        <td id=\"T_4db0e718_91b1_11ea_a38b_38f9d36215cerow0_col2\" class=\"data row0 col2\" >0.72</td>\n",
       "                        <td id=\"T_4db0e718_91b1_11ea_a38b_38f9d36215cerow0_col3\" class=\"data row0 col3\" >0.97</td>\n",
       "            </tr>\n",
       "            <tr>\n",
       "                        <th id=\"T_4db0e718_91b1_11ea_a38b_38f9d36215celevel0_row1\" class=\"row_heading level0 row1\" >Administration</th>\n",
       "                        <td id=\"T_4db0e718_91b1_11ea_a38b_38f9d36215cerow1_col0\" class=\"data row1 col0\" >0.24</td>\n",
       "                        <td id=\"T_4db0e718_91b1_11ea_a38b_38f9d36215cerow1_col1\" class=\"data row1 col1\" >1</td>\n",
       "                        <td id=\"T_4db0e718_91b1_11ea_a38b_38f9d36215cerow1_col2\" class=\"data row1 col2\" >-0.032</td>\n",
       "                        <td id=\"T_4db0e718_91b1_11ea_a38b_38f9d36215cerow1_col3\" class=\"data row1 col3\" >0.2</td>\n",
       "            </tr>\n",
       "            <tr>\n",
       "                        <th id=\"T_4db0e718_91b1_11ea_a38b_38f9d36215celevel0_row2\" class=\"row_heading level0 row2\" >Marketing Spend</th>\n",
       "                        <td id=\"T_4db0e718_91b1_11ea_a38b_38f9d36215cerow2_col0\" class=\"data row2 col0\" >0.72</td>\n",
       "                        <td id=\"T_4db0e718_91b1_11ea_a38b_38f9d36215cerow2_col1\" class=\"data row2 col1\" >-0.032</td>\n",
       "                        <td id=\"T_4db0e718_91b1_11ea_a38b_38f9d36215cerow2_col2\" class=\"data row2 col2\" >1</td>\n",
       "                        <td id=\"T_4db0e718_91b1_11ea_a38b_38f9d36215cerow2_col3\" class=\"data row2 col3\" >0.75</td>\n",
       "            </tr>\n",
       "            <tr>\n",
       "                        <th id=\"T_4db0e718_91b1_11ea_a38b_38f9d36215celevel0_row3\" class=\"row_heading level0 row3\" >Profit</th>\n",
       "                        <td id=\"T_4db0e718_91b1_11ea_a38b_38f9d36215cerow3_col0\" class=\"data row3 col0\" >0.97</td>\n",
       "                        <td id=\"T_4db0e718_91b1_11ea_a38b_38f9d36215cerow3_col1\" class=\"data row3 col1\" >0.2</td>\n",
       "                        <td id=\"T_4db0e718_91b1_11ea_a38b_38f9d36215cerow3_col2\" class=\"data row3 col2\" >0.75</td>\n",
       "                        <td id=\"T_4db0e718_91b1_11ea_a38b_38f9d36215cerow3_col3\" class=\"data row3 col3\" >1</td>\n",
       "            </tr>\n",
       "    </tbody></table>"
      ],
      "text/plain": [
       "<pandas.io.formats.style.Styler at 0x147eed390>"
      ]
     },
     "execution_count": 74,
     "metadata": {},
     "output_type": "execute_result"
    }
   ],
   "source": [
    "corr = data.corr()\n",
    "corr.style.background_gradient(cmap='coolwarm').set_precision(2)"
   ]
  },
  {
   "cell_type": "markdown",
   "metadata": {},
   "source": [
    "As we can see in the above correlation plot that, there is the huge correlation between the R&D spend and the profit of the companies ,so by this we can infer that the companies which are spending mode on R$D are generating maximum profites."
   ]
  },
  {
   "cell_type": "markdown",
   "metadata": {},
   "source": [
    "## New York"
   ]
  },
  {
   "cell_type": "code",
   "execution_count": 55,
   "metadata": {},
   "outputs": [
    {
     "data": {
      "text/html": [
       "<style  type=\"text/css\" >\n",
       "    #T_5d73def4_8fcb_11ea_a38b_38f9d36215cerow0_col0 {\n",
       "            background-color:  #b40426;\n",
       "            color:  #f1f1f1;\n",
       "        }    #T_5d73def4_8fcb_11ea_a38b_38f9d36215cerow0_col1 {\n",
       "            background-color:  #a1c0ff;\n",
       "            color:  #000000;\n",
       "        }    #T_5d73def4_8fcb_11ea_a38b_38f9d36215cerow0_col2 {\n",
       "            background-color:  #f29072;\n",
       "            color:  #000000;\n",
       "        }    #T_5d73def4_8fcb_11ea_a38b_38f9d36215cerow0_col3 {\n",
       "            background-color:  #c32e31;\n",
       "            color:  #f1f1f1;\n",
       "        }    #T_5d73def4_8fcb_11ea_a38b_38f9d36215cerow1_col0 {\n",
       "            background-color:  #3b4cc0;\n",
       "            color:  #f1f1f1;\n",
       "        }    #T_5d73def4_8fcb_11ea_a38b_38f9d36215cerow1_col1 {\n",
       "            background-color:  #b40426;\n",
       "            color:  #f1f1f1;\n",
       "        }    #T_5d73def4_8fcb_11ea_a38b_38f9d36215cerow1_col2 {\n",
       "            background-color:  #3b4cc0;\n",
       "            color:  #f1f1f1;\n",
       "        }    #T_5d73def4_8fcb_11ea_a38b_38f9d36215cerow1_col3 {\n",
       "            background-color:  #3b4cc0;\n",
       "            color:  #f1f1f1;\n",
       "        }    #T_5d73def4_8fcb_11ea_a38b_38f9d36215cerow2_col0 {\n",
       "            background-color:  #f7b79b;\n",
       "            color:  #000000;\n",
       "        }    #T_5d73def4_8fcb_11ea_a38b_38f9d36215cerow2_col1 {\n",
       "            background-color:  #3b4cc0;\n",
       "            color:  #f1f1f1;\n",
       "        }    #T_5d73def4_8fcb_11ea_a38b_38f9d36215cerow2_col2 {\n",
       "            background-color:  #b40426;\n",
       "            color:  #f1f1f1;\n",
       "        }    #T_5d73def4_8fcb_11ea_a38b_38f9d36215cerow2_col3 {\n",
       "            background-color:  #f7b194;\n",
       "            color:  #000000;\n",
       "        }    #T_5d73def4_8fcb_11ea_a38b_38f9d36215cerow3_col0 {\n",
       "            background-color:  #c32e31;\n",
       "            color:  #f1f1f1;\n",
       "        }    #T_5d73def4_8fcb_11ea_a38b_38f9d36215cerow3_col1 {\n",
       "            background-color:  #9dbdff;\n",
       "            color:  #000000;\n",
       "        }    #T_5d73def4_8fcb_11ea_a38b_38f9d36215cerow3_col2 {\n",
       "            background-color:  #f18d6f;\n",
       "            color:  #000000;\n",
       "        }    #T_5d73def4_8fcb_11ea_a38b_38f9d36215cerow3_col3 {\n",
       "            background-color:  #b40426;\n",
       "            color:  #f1f1f1;\n",
       "        }</style><table id=\"T_5d73def4_8fcb_11ea_a38b_38f9d36215ce\" ><thead>    <tr>        <th class=\"blank level0\" ></th>        <th class=\"col_heading level0 col0\" >R&D Spend</th>        <th class=\"col_heading level0 col1\" >Administration</th>        <th class=\"col_heading level0 col2\" >Marketing Spend</th>        <th class=\"col_heading level0 col3\" >Profit</th>    </tr></thead><tbody>\n",
       "                <tr>\n",
       "                        <th id=\"T_5d73def4_8fcb_11ea_a38b_38f9d36215celevel0_row0\" class=\"row_heading level0 row0\" >R&D Spend</th>\n",
       "                        <td id=\"T_5d73def4_8fcb_11ea_a38b_38f9d36215cerow0_col0\" class=\"data row0 col0\" >1</td>\n",
       "                        <td id=\"T_5d73def4_8fcb_11ea_a38b_38f9d36215cerow0_col1\" class=\"data row0 col1\" >0.41</td>\n",
       "                        <td id=\"T_5d73def4_8fcb_11ea_a38b_38f9d36215cerow0_col2\" class=\"data row0 col2\" >0.8</td>\n",
       "                        <td id=\"T_5d73def4_8fcb_11ea_a38b_38f9d36215cerow0_col3\" class=\"data row0 col3\" >0.98</td>\n",
       "            </tr>\n",
       "            <tr>\n",
       "                        <th id=\"T_5d73def4_8fcb_11ea_a38b_38f9d36215celevel0_row1\" class=\"row_heading level0 row1\" >Administration</th>\n",
       "                        <td id=\"T_5d73def4_8fcb_11ea_a38b_38f9d36215cerow1_col0\" class=\"data row1 col0\" >0.41</td>\n",
       "                        <td id=\"T_5d73def4_8fcb_11ea_a38b_38f9d36215cerow1_col1\" class=\"data row1 col1\" >1</td>\n",
       "                        <td id=\"T_5d73def4_8fcb_11ea_a38b_38f9d36215cerow1_col2\" class=\"data row1 col2\" >0.14</td>\n",
       "                        <td id=\"T_5d73def4_8fcb_11ea_a38b_38f9d36215cerow1_col3\" class=\"data row1 col3\" >0.4</td>\n",
       "            </tr>\n",
       "            <tr>\n",
       "                        <th id=\"T_5d73def4_8fcb_11ea_a38b_38f9d36215celevel0_row2\" class=\"row_heading level0 row2\" >Marketing Spend</th>\n",
       "                        <td id=\"T_5d73def4_8fcb_11ea_a38b_38f9d36215cerow2_col0\" class=\"data row2 col0\" >0.8</td>\n",
       "                        <td id=\"T_5d73def4_8fcb_11ea_a38b_38f9d36215cerow2_col1\" class=\"data row2 col1\" >0.14</td>\n",
       "                        <td id=\"T_5d73def4_8fcb_11ea_a38b_38f9d36215cerow2_col2\" class=\"data row2 col2\" >1</td>\n",
       "                        <td id=\"T_5d73def4_8fcb_11ea_a38b_38f9d36215cerow2_col3\" class=\"data row2 col3\" >0.81</td>\n",
       "            </tr>\n",
       "            <tr>\n",
       "                        <th id=\"T_5d73def4_8fcb_11ea_a38b_38f9d36215celevel0_row3\" class=\"row_heading level0 row3\" >Profit</th>\n",
       "                        <td id=\"T_5d73def4_8fcb_11ea_a38b_38f9d36215cerow3_col0\" class=\"data row3 col0\" >0.98</td>\n",
       "                        <td id=\"T_5d73def4_8fcb_11ea_a38b_38f9d36215cerow3_col1\" class=\"data row3 col1\" >0.4</td>\n",
       "                        <td id=\"T_5d73def4_8fcb_11ea_a38b_38f9d36215cerow3_col2\" class=\"data row3 col2\" >0.81</td>\n",
       "                        <td id=\"T_5d73def4_8fcb_11ea_a38b_38f9d36215cerow3_col3\" class=\"data row3 col3\" >1</td>\n",
       "            </tr>\n",
       "    </tbody></table>"
      ],
      "text/plain": [
       "<pandas.io.formats.style.Styler at 0x13f34b210>"
      ]
     },
     "execution_count": 55,
     "metadata": {},
     "output_type": "execute_result"
    }
   ],
   "source": [
    "corr=data[data['State']=='New York'].corr() \n",
    "corr.style.background_gradient(cmap='coolwarm').set_precision(2)"
   ]
  },
  {
   "cell_type": "markdown",
   "metadata": {},
   "source": [
    "## California"
   ]
  },
  {
   "cell_type": "code",
   "execution_count": 56,
   "metadata": {},
   "outputs": [
    {
     "data": {
      "text/html": [
       "<style  type=\"text/css\" >\n",
       "    #T_5db0083e_8fcb_11ea_a38b_38f9d36215cerow0_col0 {\n",
       "            background-color:  #b40426;\n",
       "            color:  #f1f1f1;\n",
       "        }    #T_5db0083e_8fcb_11ea_a38b_38f9d36215cerow0_col1 {\n",
       "            background-color:  #90b2fe;\n",
       "            color:  #000000;\n",
       "        }    #T_5db0083e_8fcb_11ea_a38b_38f9d36215cerow0_col2 {\n",
       "            background-color:  #f39475;\n",
       "            color:  #000000;\n",
       "        }    #T_5db0083e_8fcb_11ea_a38b_38f9d36215cerow0_col3 {\n",
       "            background-color:  #be242e;\n",
       "            color:  #f1f1f1;\n",
       "        }    #T_5db0083e_8fcb_11ea_a38b_38f9d36215cerow1_col0 {\n",
       "            background-color:  #3b4cc0;\n",
       "            color:  #f1f1f1;\n",
       "        }    #T_5db0083e_8fcb_11ea_a38b_38f9d36215cerow1_col1 {\n",
       "            background-color:  #b40426;\n",
       "            color:  #f1f1f1;\n",
       "        }    #T_5db0083e_8fcb_11ea_a38b_38f9d36215cerow1_col2 {\n",
       "            background-color:  #3b4cc0;\n",
       "            color:  #f1f1f1;\n",
       "        }    #T_5db0083e_8fcb_11ea_a38b_38f9d36215cerow1_col3 {\n",
       "            background-color:  #3b4cc0;\n",
       "            color:  #f1f1f1;\n",
       "        }    #T_5db0083e_8fcb_11ea_a38b_38f9d36215cerow2_col0 {\n",
       "            background-color:  #f7b396;\n",
       "            color:  #000000;\n",
       "        }    #T_5db0083e_8fcb_11ea_a38b_38f9d36215cerow2_col1 {\n",
       "            background-color:  #3b4cc0;\n",
       "            color:  #f1f1f1;\n",
       "        }    #T_5db0083e_8fcb_11ea_a38b_38f9d36215cerow2_col2 {\n",
       "            background-color:  #b40426;\n",
       "            color:  #f1f1f1;\n",
       "        }    #T_5db0083e_8fcb_11ea_a38b_38f9d36215cerow2_col3 {\n",
       "            background-color:  #f39778;\n",
       "            color:  #000000;\n",
       "        }    #T_5db0083e_8fcb_11ea_a38b_38f9d36215cerow3_col0 {\n",
       "            background-color:  #be242e;\n",
       "            color:  #f1f1f1;\n",
       "        }    #T_5db0083e_8fcb_11ea_a38b_38f9d36215cerow3_col1 {\n",
       "            background-color:  #86a9fc;\n",
       "            color:  #000000;\n",
       "        }    #T_5db0083e_8fcb_11ea_a38b_38f9d36215cerow3_col2 {\n",
       "            background-color:  #ec7f63;\n",
       "            color:  #000000;\n",
       "        }    #T_5db0083e_8fcb_11ea_a38b_38f9d36215cerow3_col3 {\n",
       "            background-color:  #b40426;\n",
       "            color:  #f1f1f1;\n",
       "        }</style><table id=\"T_5db0083e_8fcb_11ea_a38b_38f9d36215ce\" ><thead>    <tr>        <th class=\"blank level0\" ></th>        <th class=\"col_heading level0 col0\" >R&D Spend</th>        <th class=\"col_heading level0 col1\" >Administration</th>        <th class=\"col_heading level0 col2\" >Marketing Spend</th>        <th class=\"col_heading level0 col3\" >Profit</th>    </tr></thead><tbody>\n",
       "                <tr>\n",
       "                        <th id=\"T_5db0083e_8fcb_11ea_a38b_38f9d36215celevel0_row0\" class=\"row_heading level0 row0\" >R&D Spend</th>\n",
       "                        <td id=\"T_5db0083e_8fcb_11ea_a38b_38f9d36215cerow0_col0\" class=\"data row0 col0\" >1</td>\n",
       "                        <td id=\"T_5db0083e_8fcb_11ea_a38b_38f9d36215cerow0_col1\" class=\"data row0 col1\" >0.19</td>\n",
       "                        <td id=\"T_5db0083e_8fcb_11ea_a38b_38f9d36215cerow0_col2\" class=\"data row0 col2\" >0.74</td>\n",
       "                        <td id=\"T_5db0083e_8fcb_11ea_a38b_38f9d36215cerow0_col3\" class=\"data row0 col3\" >0.98</td>\n",
       "            </tr>\n",
       "            <tr>\n",
       "                        <th id=\"T_5db0083e_8fcb_11ea_a38b_38f9d36215celevel0_row1\" class=\"row_heading level0 row1\" >Administration</th>\n",
       "                        <td id=\"T_5db0083e_8fcb_11ea_a38b_38f9d36215cerow1_col0\" class=\"data row1 col0\" >0.19</td>\n",
       "                        <td id=\"T_5db0083e_8fcb_11ea_a38b_38f9d36215cerow1_col1\" class=\"data row1 col1\" >1</td>\n",
       "                        <td id=\"T_5db0083e_8fcb_11ea_a38b_38f9d36215cerow1_col2\" class=\"data row1 col2\" >-0.091</td>\n",
       "                        <td id=\"T_5db0083e_8fcb_11ea_a38b_38f9d36215cerow1_col3\" class=\"data row1 col3\" >0.16</td>\n",
       "            </tr>\n",
       "            <tr>\n",
       "                        <th id=\"T_5db0083e_8fcb_11ea_a38b_38f9d36215celevel0_row2\" class=\"row_heading level0 row2\" >Marketing Spend</th>\n",
       "                        <td id=\"T_5db0083e_8fcb_11ea_a38b_38f9d36215cerow2_col0\" class=\"data row2 col0\" >0.74</td>\n",
       "                        <td id=\"T_5db0083e_8fcb_11ea_a38b_38f9d36215cerow2_col1\" class=\"data row2 col1\" >-0.091</td>\n",
       "                        <td id=\"T_5db0083e_8fcb_11ea_a38b_38f9d36215cerow2_col2\" class=\"data row2 col2\" >1</td>\n",
       "                        <td id=\"T_5db0083e_8fcb_11ea_a38b_38f9d36215cerow2_col3\" class=\"data row2 col3\" >0.79</td>\n",
       "            </tr>\n",
       "            <tr>\n",
       "                        <th id=\"T_5db0083e_8fcb_11ea_a38b_38f9d36215celevel0_row3\" class=\"row_heading level0 row3\" >Profit</th>\n",
       "                        <td id=\"T_5db0083e_8fcb_11ea_a38b_38f9d36215cerow3_col0\" class=\"data row3 col0\" >0.98</td>\n",
       "                        <td id=\"T_5db0083e_8fcb_11ea_a38b_38f9d36215cerow3_col1\" class=\"data row3 col1\" >0.16</td>\n",
       "                        <td id=\"T_5db0083e_8fcb_11ea_a38b_38f9d36215cerow3_col2\" class=\"data row3 col2\" >0.79</td>\n",
       "                        <td id=\"T_5db0083e_8fcb_11ea_a38b_38f9d36215cerow3_col3\" class=\"data row3 col3\" >1</td>\n",
       "            </tr>\n",
       "    </tbody></table>"
      ],
      "text/plain": [
       "<pandas.io.formats.style.Styler at 0x147f40d10>"
      ]
     },
     "execution_count": 56,
     "metadata": {},
     "output_type": "execute_result"
    }
   ],
   "source": [
    "corr=data[data['State']=='California'].corr() \n",
    "corr.style.background_gradient(cmap='coolwarm').set_precision(2)"
   ]
  },
  {
   "cell_type": "markdown",
   "metadata": {},
   "source": [
    "## Florida"
   ]
  },
  {
   "cell_type": "code",
   "execution_count": 57,
   "metadata": {},
   "outputs": [
    {
     "data": {
      "text/html": [
       "<style  type=\"text/css\" >\n",
       "    #T_5deeba98_8fcb_11ea_a38b_38f9d36215cerow0_col0 {\n",
       "            background-color:  #b40426;\n",
       "            color:  #f1f1f1;\n",
       "        }    #T_5deeba98_8fcb_11ea_a38b_38f9d36215cerow0_col1 {\n",
       "            background-color:  #9fbfff;\n",
       "            color:  #000000;\n",
       "        }    #T_5deeba98_8fcb_11ea_a38b_38f9d36215cerow0_col2 {\n",
       "            background-color:  #f7b89c;\n",
       "            color:  #000000;\n",
       "        }    #T_5deeba98_8fcb_11ea_a38b_38f9d36215cerow0_col3 {\n",
       "            background-color:  #be242e;\n",
       "            color:  #f1f1f1;\n",
       "        }    #T_5deeba98_8fcb_11ea_a38b_38f9d36215cerow1_col0 {\n",
       "            background-color:  #3b4cc0;\n",
       "            color:  #f1f1f1;\n",
       "        }    #T_5deeba98_8fcb_11ea_a38b_38f9d36215cerow1_col1 {\n",
       "            background-color:  #b40426;\n",
       "            color:  #f1f1f1;\n",
       "        }    #T_5deeba98_8fcb_11ea_a38b_38f9d36215cerow1_col2 {\n",
       "            background-color:  #3b4cc0;\n",
       "            color:  #f1f1f1;\n",
       "        }    #T_5deeba98_8fcb_11ea_a38b_38f9d36215cerow1_col3 {\n",
       "            background-color:  #3b4cc0;\n",
       "            color:  #f1f1f1;\n",
       "        }    #T_5deeba98_8fcb_11ea_a38b_38f9d36215cerow2_col0 {\n",
       "            background-color:  #e2dad5;\n",
       "            color:  #000000;\n",
       "        }    #T_5deeba98_8fcb_11ea_a38b_38f9d36215cerow2_col1 {\n",
       "            background-color:  #3b4cc0;\n",
       "            color:  #f1f1f1;\n",
       "        }    #T_5deeba98_8fcb_11ea_a38b_38f9d36215cerow2_col2 {\n",
       "            background-color:  #b40426;\n",
       "            color:  #f1f1f1;\n",
       "        }    #T_5deeba98_8fcb_11ea_a38b_38f9d36215cerow2_col3 {\n",
       "            background-color:  #f0cdbb;\n",
       "            color:  #000000;\n",
       "        }    #T_5deeba98_8fcb_11ea_a38b_38f9d36215cerow3_col0 {\n",
       "            background-color:  #c0282f;\n",
       "            color:  #f1f1f1;\n",
       "        }    #T_5deeba98_8fcb_11ea_a38b_38f9d36215cerow3_col1 {\n",
       "            background-color:  #86a9fc;\n",
       "            color:  #000000;\n",
       "        }    #T_5deeba98_8fcb_11ea_a38b_38f9d36215cerow3_col2 {\n",
       "            background-color:  #f7b396;\n",
       "            color:  #000000;\n",
       "        }    #T_5deeba98_8fcb_11ea_a38b_38f9d36215cerow3_col3 {\n",
       "            background-color:  #b40426;\n",
       "            color:  #f1f1f1;\n",
       "        }</style><table id=\"T_5deeba98_8fcb_11ea_a38b_38f9d36215ce\" ><thead>    <tr>        <th class=\"blank level0\" ></th>        <th class=\"col_heading level0 col0\" >R&D Spend</th>        <th class=\"col_heading level0 col1\" >Administration</th>        <th class=\"col_heading level0 col2\" >Marketing Spend</th>        <th class=\"col_heading level0 col3\" >Profit</th>    </tr></thead><tbody>\n",
       "                <tr>\n",
       "                        <th id=\"T_5deeba98_8fcb_11ea_a38b_38f9d36215celevel0_row0\" class=\"row_heading level0 row0\" >R&D Spend</th>\n",
       "                        <td id=\"T_5deeba98_8fcb_11ea_a38b_38f9d36215cerow0_col0\" class=\"data row0 col0\" >1</td>\n",
       "                        <td id=\"T_5deeba98_8fcb_11ea_a38b_38f9d36215cerow0_col1\" class=\"data row0 col1\" >0.053</td>\n",
       "                        <td id=\"T_5deeba98_8fcb_11ea_a38b_38f9d36215cerow0_col2\" class=\"data row0 col2\" >0.55</td>\n",
       "                        <td id=\"T_5deeba98_8fcb_11ea_a38b_38f9d36215cerow0_col3\" class=\"data row0 col3\" >0.97</td>\n",
       "            </tr>\n",
       "            <tr>\n",
       "                        <th id=\"T_5deeba98_8fcb_11ea_a38b_38f9d36215celevel0_row1\" class=\"row_heading level0 row1\" >Administration</th>\n",
       "                        <td id=\"T_5deeba98_8fcb_11ea_a38b_38f9d36215cerow1_col0\" class=\"data row1 col0\" >0.053</td>\n",
       "                        <td id=\"T_5deeba98_8fcb_11ea_a38b_38f9d36215cerow1_col1\" class=\"data row1 col1\" >1</td>\n",
       "                        <td id=\"T_5deeba98_8fcb_11ea_a38b_38f9d36215cerow1_col2\" class=\"data row1 col2\" >-0.35</td>\n",
       "                        <td id=\"T_5deeba98_8fcb_11ea_a38b_38f9d36215cerow1_col3\" class=\"data row1 col3\" >-0.042</td>\n",
       "            </tr>\n",
       "            <tr>\n",
       "                        <th id=\"T_5deeba98_8fcb_11ea_a38b_38f9d36215celevel0_row2\" class=\"row_heading level0 row2\" >Marketing Spend</th>\n",
       "                        <td id=\"T_5deeba98_8fcb_11ea_a38b_38f9d36215cerow2_col0\" class=\"data row2 col0\" >0.55</td>\n",
       "                        <td id=\"T_5deeba98_8fcb_11ea_a38b_38f9d36215cerow2_col1\" class=\"data row2 col1\" >-0.35</td>\n",
       "                        <td id=\"T_5deeba98_8fcb_11ea_a38b_38f9d36215cerow2_col2\" class=\"data row2 col2\" >1</td>\n",
       "                        <td id=\"T_5deeba98_8fcb_11ea_a38b_38f9d36215cerow2_col3\" class=\"data row2 col3\" >0.57</td>\n",
       "            </tr>\n",
       "            <tr>\n",
       "                        <th id=\"T_5deeba98_8fcb_11ea_a38b_38f9d36215celevel0_row3\" class=\"row_heading level0 row3\" >Profit</th>\n",
       "                        <td id=\"T_5deeba98_8fcb_11ea_a38b_38f9d36215cerow3_col0\" class=\"data row3 col0\" >0.97</td>\n",
       "                        <td id=\"T_5deeba98_8fcb_11ea_a38b_38f9d36215cerow3_col1\" class=\"data row3 col1\" >-0.042</td>\n",
       "                        <td id=\"T_5deeba98_8fcb_11ea_a38b_38f9d36215cerow3_col2\" class=\"data row3 col2\" >0.57</td>\n",
       "                        <td id=\"T_5deeba98_8fcb_11ea_a38b_38f9d36215cerow3_col3\" class=\"data row3 col3\" >1</td>\n",
       "            </tr>\n",
       "    </tbody></table>"
      ],
      "text/plain": [
       "<pandas.io.formats.style.Styler at 0x147f45950>"
      ]
     },
     "execution_count": 57,
     "metadata": {},
     "output_type": "execute_result"
    }
   ],
   "source": [
    "corr=data[data['State']=='Florida'].corr() \n",
    "corr.style.background_gradient(cmap='coolwarm').set_precision(2)"
   ]
  },
  {
   "cell_type": "markdown",
   "metadata": {},
   "source": [
    "## state in which the companies are investing more on R&D "
   ]
  },
  {
   "cell_type": "markdown",
   "metadata": {},
   "source": [
    "## Model for predicting profits"
   ]
  },
  {
   "cell_type": "code",
   "execution_count": 59,
   "metadata": {},
   "outputs": [],
   "source": [
    "import numpy as np  \n",
    "import matplotlib.pyplot as plt  \n",
    "from sklearn.model_selection import train_test_split \n",
    "from sklearn.linear_model import LinearRegression\n",
    "from sklearn import metrics\n",
    "%matplotlib inline"
   ]
  },
  {
   "cell_type": "code",
   "execution_count": 83,
   "metadata": {},
   "outputs": [
    {
     "data": {
      "text/html": [
       "<div>\n",
       "<style scoped>\n",
       "    .dataframe tbody tr th:only-of-type {\n",
       "        vertical-align: middle;\n",
       "    }\n",
       "\n",
       "    .dataframe tbody tr th {\n",
       "        vertical-align: top;\n",
       "    }\n",
       "\n",
       "    .dataframe thead th {\n",
       "        text-align: right;\n",
       "    }\n",
       "</style>\n",
       "<table border=\"1\" class=\"dataframe\">\n",
       "  <thead>\n",
       "    <tr style=\"text-align: right;\">\n",
       "      <th></th>\n",
       "      <th>index</th>\n",
       "      <th>0</th>\n",
       "    </tr>\n",
       "  </thead>\n",
       "  <tbody>\n",
       "    <tr>\n",
       "      <th>0</th>\n",
       "      <td>R&amp;D Spend</td>\n",
       "      <td>float64</td>\n",
       "    </tr>\n",
       "    <tr>\n",
       "      <th>1</th>\n",
       "      <td>Administration</td>\n",
       "      <td>float64</td>\n",
       "    </tr>\n",
       "    <tr>\n",
       "      <th>2</th>\n",
       "      <td>Marketing Spend</td>\n",
       "      <td>float64</td>\n",
       "    </tr>\n",
       "    <tr>\n",
       "      <th>3</th>\n",
       "      <td>State</td>\n",
       "      <td>object</td>\n",
       "    </tr>\n",
       "    <tr>\n",
       "      <th>4</th>\n",
       "      <td>Profit</td>\n",
       "      <td>float64</td>\n",
       "    </tr>\n",
       "  </tbody>\n",
       "</table>\n",
       "</div>"
      ],
      "text/plain": [
       "             index        0\n",
       "0        R&D Spend  float64\n",
       "1   Administration  float64\n",
       "2  Marketing Spend  float64\n",
       "3            State   object\n",
       "4           Profit  float64"
      ]
     },
     "execution_count": 83,
     "metadata": {},
     "output_type": "execute_result"
    }
   ],
   "source": [
    "data.dtypes.reset_index()"
   ]
  },
  {
   "cell_type": "markdown",
   "metadata": {},
   "source": [
    "##### Tutorial for encoding and decoding of text data link.\n",
    "https://pbpython.com/categorical-encoding.html"
   ]
  },
  {
   "cell_type": "markdown",
   "metadata": {},
   "source": [
    "### Encoding the categorial variable"
   ]
  },
  {
   "cell_type": "code",
   "execution_count": 109,
   "metadata": {},
   "outputs": [
    {
     "data": {
      "text/html": [
       "<div>\n",
       "<style scoped>\n",
       "    .dataframe tbody tr th:only-of-type {\n",
       "        vertical-align: middle;\n",
       "    }\n",
       "\n",
       "    .dataframe tbody tr th {\n",
       "        vertical-align: top;\n",
       "    }\n",
       "\n",
       "    .dataframe thead th {\n",
       "        text-align: right;\n",
       "    }\n",
       "</style>\n",
       "<table border=\"1\" class=\"dataframe\">\n",
       "  <thead>\n",
       "    <tr style=\"text-align: right;\">\n",
       "      <th></th>\n",
       "      <th>California</th>\n",
       "      <th>Florida</th>\n",
       "      <th>New York</th>\n",
       "    </tr>\n",
       "  </thead>\n",
       "  <tbody>\n",
       "    <tr>\n",
       "      <th>0</th>\n",
       "      <td>0</td>\n",
       "      <td>0</td>\n",
       "      <td>1</td>\n",
       "    </tr>\n",
       "    <tr>\n",
       "      <th>1</th>\n",
       "      <td>1</td>\n",
       "      <td>0</td>\n",
       "      <td>0</td>\n",
       "    </tr>\n",
       "  </tbody>\n",
       "</table>\n",
       "</div>"
      ],
      "text/plain": [
       "   California  Florida  New York\n",
       "0           0        0         1\n",
       "1           1        0         0"
      ]
     },
     "execution_count": 109,
     "metadata": {},
     "output_type": "execute_result"
    }
   ],
   "source": [
    "from sklearn.preprocessing import LabelBinarizer\n",
    "\n",
    "lb_style = LabelBinarizer()\n",
    "results = lb_style.fit_transform(data[\"State\"])\n",
    "pd.DataFrame(results, columns=lb_style.classes_).head(2)"
   ]
  },
  {
   "cell_type": "code",
   "execution_count": 111,
   "metadata": {},
   "outputs": [
    {
     "data": {
      "text/html": [
       "<div>\n",
       "<style scoped>\n",
       "    .dataframe tbody tr th:only-of-type {\n",
       "        vertical-align: middle;\n",
       "    }\n",
       "\n",
       "    .dataframe tbody tr th {\n",
       "        vertical-align: top;\n",
       "    }\n",
       "\n",
       "    .dataframe thead th {\n",
       "        text-align: right;\n",
       "    }\n",
       "</style>\n",
       "<table border=\"1\" class=\"dataframe\">\n",
       "  <thead>\n",
       "    <tr style=\"text-align: right;\">\n",
       "      <th></th>\n",
       "      <th>California</th>\n",
       "      <th>Florida</th>\n",
       "      <th>New York</th>\n",
       "      <th>R&amp;D Spend</th>\n",
       "      <th>Administration</th>\n",
       "      <th>Marketing Spend</th>\n",
       "      <th>Profit</th>\n",
       "    </tr>\n",
       "  </thead>\n",
       "  <tbody>\n",
       "    <tr>\n",
       "      <th>0</th>\n",
       "      <td>0</td>\n",
       "      <td>0</td>\n",
       "      <td>1</td>\n",
       "      <td>165349.2</td>\n",
       "      <td>136897.80</td>\n",
       "      <td>471784.10</td>\n",
       "      <td>192261.83</td>\n",
       "    </tr>\n",
       "    <tr>\n",
       "      <th>1</th>\n",
       "      <td>1</td>\n",
       "      <td>0</td>\n",
       "      <td>0</td>\n",
       "      <td>162597.7</td>\n",
       "      <td>151377.59</td>\n",
       "      <td>443898.53</td>\n",
       "      <td>191792.06</td>\n",
       "    </tr>\n",
       "  </tbody>\n",
       "</table>\n",
       "</div>"
      ],
      "text/plain": [
       "   California  Florida  New York  R&D Spend  Administration  Marketing Spend  \\\n",
       "0           0        0         1   165349.2       136897.80        471784.10   \n",
       "1           1        0         0   162597.7       151377.59        443898.53   \n",
       "\n",
       "      Profit  \n",
       "0  192261.83  \n",
       "1  191792.06  "
      ]
     },
     "execution_count": 111,
     "metadata": {},
     "output_type": "execute_result"
    }
   ],
   "source": [
    "numeric_data=pd.concat([pd.DataFrame(results, columns=lb_style.classes_), data.drop(['State'], axis = 1)], axis=1, sort=False)\n",
    "numeric_data.head(2)"
   ]
  },
  {
   "cell_type": "markdown",
   "metadata": {},
   "source": [
    "### Normalizing the data\n",
    "\n",
    "seing the range of the columns in the dataframe."
   ]
  },
  {
   "cell_type": "code",
   "execution_count": 113,
   "metadata": {},
   "outputs": [
    {
     "name": "stdout",
     "output_type": "stream",
     "text": [
      "The range of the column California is :- 1 \n",
      "\n",
      "max :- 1 \n",
      "min :- 0\n",
      "The range of the column Florida is :- 1 \n",
      "\n",
      "max :- 1 \n",
      "min :- 0\n",
      "The range of the column New York is :- 1 \n",
      "\n",
      "max :- 1 \n",
      "min :- 0\n",
      "The range of the column R&D Spend is :- 165349.2 \n",
      "\n",
      "max :- 165349.2 \n",
      "min :- 0.0\n",
      "The range of the column Administration is :- 131362.41999999998 \n",
      "\n",
      "max :- 182645.56 \n",
      "min :- 51283.14\n",
      "The range of the column Marketing Spend is :- 471784.1 \n",
      "\n",
      "max :- 471784.1 \n",
      "min :- 0.0\n",
      "The range of the column Profit is :- 177580.43 \n",
      "\n",
      "max :- 192261.83 \n",
      "min :- 14681.4\n"
     ]
    }
   ],
   "source": [
    "def range(column):\n",
    "    return column.max()-column.min()\n",
    "for i in numeric_data.columns:\n",
    "    print(\"The range of the column\",i,\"is :-\",range(numeric_data[i]),\"\\n\")\n",
    "    print(\"max :-\",numeric_data[i].max(),\"\\nmin :-\",numeric_data[i].min())"
   ]
  },
  {
   "cell_type": "markdown",
   "metadata": {},
   "source": [
    "As we can see that the ranges of values in the column are different ,so we are performing minMax scaling to all the columns in the dataset."
   ]
  },
  {
   "cell_type": "code",
   "execution_count": 117,
   "metadata": {},
   "outputs": [
    {
     "data": {
      "text/plain": [
       "Index(['California', 'Florida', 'New York', 'R&D Spend', 'Administration',\n",
       "       'Marketing Spend', 'Profit'],\n",
       "      dtype='object')"
      ]
     },
     "execution_count": 117,
     "metadata": {},
     "output_type": "execute_result"
    }
   ],
   "source": [
    "numeric_data.columns"
   ]
  },
  {
   "cell_type": "code",
   "execution_count": 119,
   "metadata": {},
   "outputs": [],
   "source": [
    "import pandas as pd\n",
    "from sklearn.preprocessing import MinMaxScaler\n",
    "scaler = MinMaxScaler()\n",
    "numeric_data[['R&D Spend', 'Administration','Marketing Spend', 'Profit']]=scaler.fit_transform(numeric_data[['R&D Spend', 'Administration','Marketing Spend', 'Profit']])"
   ]
  },
  {
   "cell_type": "code",
   "execution_count": 121,
   "metadata": {},
   "outputs": [
    {
     "data": {
      "text/plain": [
       "Index(['California', 'Florida', 'New York', 'R&D Spend', 'Administration',\n",
       "       'Marketing Spend', 'Profit'],\n",
       "      dtype='object')"
      ]
     },
     "execution_count": 121,
     "metadata": {},
     "output_type": "execute_result"
    }
   ],
   "source": [
    "numeric_data.columns"
   ]
  },
  {
   "cell_type": "code",
   "execution_count": 123,
   "metadata": {},
   "outputs": [],
   "source": [
    "x = numeric_data[['California', 'Florida', 'New York', 'R&D Spend', 'Administration','Marketing Spend']]\n",
    "y = numeric_data['Profit']"
   ]
  },
  {
   "cell_type": "code",
   "execution_count": 124,
   "metadata": {},
   "outputs": [],
   "source": [
    "X_train, X_test, y_train, y_test = train_test_split(x, y, test_size=0.2, random_state=0)"
   ]
  },
  {
   "cell_type": "markdown",
   "metadata": {},
   "source": [
    "## Linear Regression Model"
   ]
  },
  {
   "cell_type": "markdown",
   "metadata": {},
   "source": [
    "#### Training the model"
   ]
  },
  {
   "cell_type": "code",
   "execution_count": 125,
   "metadata": {},
   "outputs": [
    {
     "data": {
      "text/plain": [
       "LinearRegression(copy_X=True, fit_intercept=True, n_jobs=None, normalize=False)"
      ]
     },
     "execution_count": 125,
     "metadata": {},
     "output_type": "execute_result"
    }
   ],
   "source": [
    "regressor = LinearRegression()  \n",
    "regressor.fit(X_train, y_train)"
   ]
  },
  {
   "cell_type": "code",
   "execution_count": 126,
   "metadata": {},
   "outputs": [
    {
     "name": "stdout",
     "output_type": "stream",
     "text": [
      "0.16596735725805267\n",
      "[ 4.87882416e-04 -4.91408761e-03  4.42620519e-03  7.20192994e-01\n",
      "  2.43258805e-02  9.72631281e-02]\n"
     ]
    }
   ],
   "source": [
    "#To retrieve the intercept:\n",
    "print(regressor.intercept_)\n",
    "#For retrieving the slope:\n",
    "print(regressor.coef_)`b"
   ]
  },
  {
   "cell_type": "markdown",
   "metadata": {},
   "source": [
    "#### Testing the model"
   ]
  },
  {
   "cell_type": "code",
   "execution_count": 133,
   "metadata": {},
   "outputs": [],
   "source": [
    "y_pred = regressor.predict(X_test)"
   ]
  },
  {
   "cell_type": "code",
   "execution_count": 134,
   "metadata": {},
   "outputs": [
    {
     "data": {
      "text/html": [
       "<div>\n",
       "<style scoped>\n",
       "    .dataframe tbody tr th:only-of-type {\n",
       "        vertical-align: middle;\n",
       "    }\n",
       "\n",
       "    .dataframe tbody tr th {\n",
       "        vertical-align: top;\n",
       "    }\n",
       "\n",
       "    .dataframe thead th {\n",
       "        text-align: right;\n",
       "    }\n",
       "</style>\n",
       "<table border=\"1\" class=\"dataframe\">\n",
       "  <thead>\n",
       "    <tr style=\"text-align: right;\">\n",
       "      <th></th>\n",
       "      <th>Actual</th>\n",
       "      <th>Predicted</th>\n",
       "    </tr>\n",
       "  </thead>\n",
       "  <tbody>\n",
       "    <tr>\n",
       "      <th>28</th>\n",
       "      <td>0.498934</td>\n",
       "      <td>0.497430</td>\n",
       "    </tr>\n",
       "    <tr>\n",
       "      <th>11</th>\n",
       "      <td>0.729686</td>\n",
       "      <td>0.663929</td>\n",
       "    </tr>\n",
       "    <tr>\n",
       "      <th>10</th>\n",
       "      <td>0.740175</td>\n",
       "      <td>0.663172</td>\n",
       "    </tr>\n",
       "    <tr>\n",
       "      <th>41</th>\n",
       "      <td>0.355430</td>\n",
       "      <td>0.322641</td>\n",
       "    </tr>\n",
       "    <tr>\n",
       "      <th>2</th>\n",
       "      <td>0.993178</td>\n",
       "      <td>0.922715</td>\n",
       "    </tr>\n",
       "    <tr>\n",
       "      <th>27</th>\n",
       "      <td>0.508654</td>\n",
       "      <td>0.571458</td>\n",
       "    </tr>\n",
       "    <tr>\n",
       "      <th>38</th>\n",
       "      <td>0.374747</td>\n",
       "      <td>0.299415</td>\n",
       "    </tr>\n",
       "    <tr>\n",
       "      <th>31</th>\n",
       "      <td>0.466280</td>\n",
       "      <td>0.473646</td>\n",
       "    </tr>\n",
       "    <tr>\n",
       "      <th>22</th>\n",
       "      <td>0.538747</td>\n",
       "      <td>0.559116</td>\n",
       "    </tr>\n",
       "    <tr>\n",
       "      <th>4</th>\n",
       "      <td>0.853171</td>\n",
       "      <td>0.862931</td>\n",
       "    </tr>\n",
       "  </tbody>\n",
       "</table>\n",
       "</div>"
      ],
      "text/plain": [
       "      Actual  Predicted\n",
       "28  0.498934   0.497430\n",
       "11  0.729686   0.663929\n",
       "10  0.740175   0.663172\n",
       "41  0.355430   0.322641\n",
       "2   0.993178   0.922715\n",
       "27  0.508654   0.571458\n",
       "38  0.374747   0.299415\n",
       "31  0.466280   0.473646\n",
       "22  0.538747   0.559116\n",
       "4   0.853171   0.862931"
      ]
     },
     "execution_count": 134,
     "metadata": {},
     "output_type": "execute_result"
    }
   ],
   "source": [
    "df = pd.DataFrame({'Actual': y_test, 'Predicted': y_pred})\n",
    "df"
   ]
  },
  {
   "cell_type": "markdown",
   "metadata": {},
   "source": [
    "## Error"
   ]
  },
  {
   "cell_type": "markdown",
   "metadata": {},
   "source": [
    "### MSE"
   ]
  },
  {
   "cell_type": "code",
   "execution_count": 135,
   "metadata": {},
   "outputs": [
    {
     "name": "stdout",
     "output_type": "stream",
     "text": [
      "\n",
      "The root mean square error is :-  0.05145831752291041\n"
     ]
    }
   ],
   "source": [
    "from sklearn.metrics import mean_squared_error\n",
    "from math import sqrt\n",
    "\n",
    "print(\"\\nThe root mean square error is :- \",sqrt(mean_squared_error(y_test,y_pred)))"
   ]
  },
  {
   "cell_type": "markdown",
   "metadata": {},
   "source": [
    "### MAE"
   ]
  },
  {
   "cell_type": "code",
   "execution_count": 136,
   "metadata": {},
   "outputs": [
    {
     "name": "stdout",
     "output_type": "stream",
     "text": [
      "\n",
      "The mean absolute error is :-  0.042314874784572916\n"
     ]
    }
   ],
   "source": [
    "from sklearn.metrics import mean_absolute_error\n",
    "print(\"\\nThe mean absolute error is :- \",mean_absolute_error(y_test,y_pred))"
   ]
  }
 ],
 "metadata": {
  "kernelspec": {
   "display_name": "Python 3",
   "language": "python",
   "name": "python3"
  },
  "language_info": {
   "codemirror_mode": {
    "name": "ipython",
    "version": 3
   },
   "file_extension": ".py",
   "mimetype": "text/x-python",
   "name": "python",
   "nbconvert_exporter": "python",
   "pygments_lexer": "ipython3",
   "version": "3.7.6"
  }
 },
 "nbformat": 4,
 "nbformat_minor": 2
}
