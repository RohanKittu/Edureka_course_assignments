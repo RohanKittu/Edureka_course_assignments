{
 "cells": [
  {
   "cell_type": "markdown",
   "metadata": {},
   "source": [
    "# Unsupervised Learning\n",
    "\n",
    "Finding patterns in the labelled or un labelled data. \n",
    "\n",
    "Note :- In unspervised learning ,we do not have predicter and target variable.We will have only set of labelled or unlabelled data.\n",
    "\n",
    "By using unsupervised learning ,we can create classes among the data by forming various clusters.\n",
    "\n",
    "Its also know as data mining tech.\n",
    "\n",
    "##### What is clustering?\n",
    "\n",
    "clustering means grouping of objects based on the information found in the data,describe the object and their relationship.\n",
    "\n",
    "The goal is that objects in one group will be similar to one other and different from objects in another group.\n"
   ]
  },
  {
   "cell_type": "markdown",
   "metadata": {},
   "source": [
    "##### clustering on numerical data"
   ]
  },
  {
   "cell_type": "markdown",
   "metadata": {},
   "source": [
    "Note :- The coordinates on the graph depend up on the number of features(variables)in the data.Ex :- If we have three features ,the coordinates of the particular point could be q(x,y,z)."
   ]
  },
  {
   "cell_type": "markdown",
   "metadata": {},
   "source": [
    "##### K means clustering"
   ]
  },
  {
   "cell_type": "markdown",
   "metadata": {},
   "source": [
    "###### Algorithm for K means clustering.\n",
    "- Step 1 :- First the K number of clusters\n",
    "- Step 2 :- It randomaly assign K number of centroids.\n",
    "- Step 3 :- It calculate the distance between all the points to the K number of centroids\n",
    "- Step4 :-  It groups the points into K number of clusters based on minimum distance between the point to the centroid.\n",
    "-  step 5 :- The it again calculate the average of all the points in their respective clusters ,and check whether the value matches with the centroid of their respective clusters,if it matches then the clustering is done else move the centroid to the average point of the cluster and re-assign the points , again repeat the above steps."
   ]
  },
  {
   "cell_type": "markdown",
   "metadata": {},
   "source": [
    "##### How do we choose the optimum number of clusters?\n",
    "\n",
    "The optimal number of clusters depend upon the minimum distance of the cluster points to its centroid,if the distance is minimum ,then the cluster is good representation of these data points.\n",
    "\n",
    "so we decide the number of cluster based on elbow  plot.\n",
    "\n",
    "- on x-axis we have Number of clusters \n",
    "- on Y-axis we have with in cluster distances\n",
    "\n",
    "note - within cluster distances means ,the summation of distance between all the points to their centroids.\n",
    "\n",
    "Note :- As the number of clusters increases ,the summation of the distances decreases,so now we need to choose the ideal number of clusters ,by seing the elbow plot ,in plot where the change in summation is very less ,in that case we take the before cluster number. \n"
   ]
  },
  {
   "cell_type": "markdown",
   "metadata": {},
   "source": [
    "Note:- we can not apply K-means clustering on a categorical data.AS we can not plot and calculate the distance between the categorical data."
   ]
  },
  {
   "cell_type": "markdown",
   "metadata": {},
   "source": [
    "# Practice by python"
   ]
  },
  {
   "cell_type": "code",
   "execution_count": 68,
   "metadata": {},
   "outputs": [],
   "source": [
    "import pandas as pd\n",
    "import numpy as np\n",
    "from matplotlib import pyplot as plt"
   ]
  },
  {
   "cell_type": "code",
   "execution_count": 69,
   "metadata": {},
   "outputs": [
    {
     "data": {
      "text/html": [
       "<div>\n",
       "<style scoped>\n",
       "    .dataframe tbody tr th:only-of-type {\n",
       "        vertical-align: middle;\n",
       "    }\n",
       "\n",
       "    .dataframe tbody tr th {\n",
       "        vertical-align: top;\n",
       "    }\n",
       "\n",
       "    .dataframe thead th {\n",
       "        text-align: right;\n",
       "    }\n",
       "</style>\n",
       "<table border=\"1\" class=\"dataframe\">\n",
       "  <thead>\n",
       "    <tr style=\"text-align: right;\">\n",
       "      <th></th>\n",
       "      <th>color</th>\n",
       "      <th>director_name</th>\n",
       "      <th>num_critic_for_reviews</th>\n",
       "      <th>duration</th>\n",
       "      <th>director_facebook_likes</th>\n",
       "      <th>actor_3_facebook_likes</th>\n",
       "      <th>actor_2_name</th>\n",
       "      <th>actor_1_facebook_likes</th>\n",
       "      <th>gross</th>\n",
       "      <th>genres</th>\n",
       "      <th>...</th>\n",
       "      <th>num_user_for_reviews</th>\n",
       "      <th>language</th>\n",
       "      <th>country</th>\n",
       "      <th>content_rating</th>\n",
       "      <th>budget</th>\n",
       "      <th>title_year</th>\n",
       "      <th>actor_2_facebook_likes</th>\n",
       "      <th>imdb_score</th>\n",
       "      <th>aspect_ratio</th>\n",
       "      <th>movie_facebook_likes</th>\n",
       "    </tr>\n",
       "  </thead>\n",
       "  <tbody>\n",
       "    <tr>\n",
       "      <th>0</th>\n",
       "      <td>Color</td>\n",
       "      <td>James Cameron</td>\n",
       "      <td>723</td>\n",
       "      <td>178</td>\n",
       "      <td>0</td>\n",
       "      <td>855</td>\n",
       "      <td>Joel David Moore</td>\n",
       "      <td>1000</td>\n",
       "      <td>760505847</td>\n",
       "      <td>Action|Adventure|Fantasy|Sci-Fi</td>\n",
       "      <td>...</td>\n",
       "      <td>3054</td>\n",
       "      <td>English</td>\n",
       "      <td>USA</td>\n",
       "      <td>PG-13</td>\n",
       "      <td>237000000</td>\n",
       "      <td>2009</td>\n",
       "      <td>936</td>\n",
       "      <td>7.9</td>\n",
       "      <td>1.78</td>\n",
       "      <td>33000</td>\n",
       "    </tr>\n",
       "    <tr>\n",
       "      <th>1</th>\n",
       "      <td>Color</td>\n",
       "      <td>Gore Verbinski</td>\n",
       "      <td>302</td>\n",
       "      <td>169</td>\n",
       "      <td>563</td>\n",
       "      <td>1000</td>\n",
       "      <td>Orlando Bloom</td>\n",
       "      <td>40000</td>\n",
       "      <td>309404152</td>\n",
       "      <td>Action|Adventure|Fantasy</td>\n",
       "      <td>...</td>\n",
       "      <td>1238</td>\n",
       "      <td>English</td>\n",
       "      <td>USA</td>\n",
       "      <td>PG-13</td>\n",
       "      <td>300000000</td>\n",
       "      <td>2007</td>\n",
       "      <td>5000</td>\n",
       "      <td>7.1</td>\n",
       "      <td>2.35</td>\n",
       "      <td>0</td>\n",
       "    </tr>\n",
       "    <tr>\n",
       "      <th>2</th>\n",
       "      <td>Color</td>\n",
       "      <td>Sam Mendes</td>\n",
       "      <td>602</td>\n",
       "      <td>148</td>\n",
       "      <td>0</td>\n",
       "      <td>161</td>\n",
       "      <td>Rory Kinnear</td>\n",
       "      <td>11000</td>\n",
       "      <td>200074175</td>\n",
       "      <td>Action|Adventure|Thriller</td>\n",
       "      <td>...</td>\n",
       "      <td>994</td>\n",
       "      <td>English</td>\n",
       "      <td>UK</td>\n",
       "      <td>PG-13</td>\n",
       "      <td>245000000</td>\n",
       "      <td>2015</td>\n",
       "      <td>393</td>\n",
       "      <td>6.8</td>\n",
       "      <td>2.35</td>\n",
       "      <td>85000</td>\n",
       "    </tr>\n",
       "  </tbody>\n",
       "</table>\n",
       "<p>3 rows × 28 columns</p>\n",
       "</div>"
      ],
      "text/plain": [
       "   color   director_name  num_critic_for_reviews  duration  \\\n",
       "0  Color   James Cameron                     723       178   \n",
       "1  Color  Gore Verbinski                     302       169   \n",
       "2  Color      Sam Mendes                     602       148   \n",
       "\n",
       "   director_facebook_likes  actor_3_facebook_likes      actor_2_name  \\\n",
       "0                        0                     855  Joel David Moore   \n",
       "1                      563                    1000     Orlando Bloom   \n",
       "2                        0                     161      Rory Kinnear   \n",
       "\n",
       "   actor_1_facebook_likes      gross                           genres  ...  \\\n",
       "0                    1000  760505847  Action|Adventure|Fantasy|Sci-Fi  ...   \n",
       "1                   40000  309404152         Action|Adventure|Fantasy  ...   \n",
       "2                   11000  200074175        Action|Adventure|Thriller  ...   \n",
       "\n",
       "  num_user_for_reviews language  country  content_rating     budget  \\\n",
       "0                 3054  English      USA           PG-13  237000000   \n",
       "1                 1238  English      USA           PG-13  300000000   \n",
       "2                  994  English       UK           PG-13  245000000   \n",
       "\n",
       "   title_year actor_2_facebook_likes imdb_score  aspect_ratio  \\\n",
       "0        2009                    936        7.9          1.78   \n",
       "1        2007                   5000        7.1          2.35   \n",
       "2        2015                    393        6.8          2.35   \n",
       "\n",
       "  movie_facebook_likes  \n",
       "0                33000  \n",
       "1                    0  \n",
       "2                85000  \n",
       "\n",
       "[3 rows x 28 columns]"
      ]
     },
     "execution_count": 69,
     "metadata": {},
     "output_type": "execute_result"
    }
   ],
   "source": [
    "data=pd.read_csv(\"movie_metadata1.csv\")\n",
    "data.head(3)"
   ]
  },
  {
   "cell_type": "markdown",
   "metadata": {},
   "source": [
    "Note :- we can apply kmeans clustering only on numeric data.so at first i am considering only two numeric columns for clustering"
   ]
  },
  {
   "cell_type": "code",
   "execution_count": 70,
   "metadata": {},
   "outputs": [
    {
     "data": {
      "text/plain": [
       "<matplotlib.collections.PathCollection at 0x127b5eb50>"
      ]
     },
     "execution_count": 70,
     "metadata": {},
     "output_type": "execute_result"
    },
    {
     "data": {
      "image/png": "[encoded data removed]",
      "text/plain": [
       "<Figure size 432x288 with 1 Axes>"
      ]
     },
     "metadata": {
      "needs_background": "light"
     },
     "output_type": "display_data"
    }
   ],
   "source": [
    "x=data[['director_facebook_likes','actor_1_facebook_likes']]\n",
    "plt.scatter(data['director_facebook_likes'],data['actor_1_facebook_likes'])"
   ]
  },
  {
   "cell_type": "code",
   "execution_count": 71,
   "metadata": {},
   "outputs": [
    {
     "data": {
      "image/png": "[encoded data removed]",
      "text/plain": [
       "<Figure size 432x288 with 1 Axes>"
      ]
     },
     "metadata": {
      "needs_background": "light"
     },
     "output_type": "display_data"
    }
   ],
   "source": [
    "from sklearn.cluster import KMeans\n",
    "wcd=[]\n",
    "for i in range(1,11):\n",
    "    model=KMeans(n_clusters=i,random_state=0)\n",
    "    model.fit(x)\n",
    "    wcd.append(model.inertia_)\n",
    "plt.plot(range(1,11),wcd)\n",
    "plt.title(\"Elbow method\")\n",
    "plt.xlabel(\"No of clusters - k\")\n",
    "plt.ylabel(\"With in cluster distances\")\n",
    "plt.show()"
   ]
  },
  {
   "cell_type": "code",
   "execution_count": 72,
   "metadata": {},
   "outputs": [],
   "source": [
    "model=KMeans(n_clusters=5,random_state=0)\n",
    "y_kmeans=model.fit_predict(x)"
   ]
  },
  {
   "cell_type": "code",
   "execution_count": 73,
   "metadata": {},
   "outputs": [
    {
     "data": {
      "text/plain": [
       "array([3, 0, 2, 1, 4])"
      ]
     },
     "execution_count": 73,
     "metadata": {},
     "output_type": "execute_result"
    }
   ],
   "source": [
    "pd.Series(y_kmeans).unique()"
   ]
  },
  {
   "cell_type": "code",
   "execution_count": 74,
   "metadata": {},
   "outputs": [
    {
     "name": "stderr",
     "output_type": "stream",
     "text": [
      "/usr/local/lib/python3.7/site-packages/ipykernel_launcher.py:1: SettingWithCopyWarning: \n",
      "A value is trying to be set on a copy of a slice from a DataFrame.\n",
      "Try using .loc[row_indexer,col_indexer] = value instead\n",
      "\n",
      "See the caveats in the documentation: http://pandas.pydata.org/pandas-docs/stable/user_guide/indexing.html#returning-a-view-versus-a-copy\n",
      "  \"\"\"Entry point for launching an IPython kernel.\n"
     ]
    }
   ],
   "source": [
    "x['clusters']=pd.Series(y_kmeans)"
   ]
  },
  {
   "cell_type": "code",
   "execution_count": 75,
   "metadata": {},
   "outputs": [
    {
     "data": {
      "text/plain": [
       "array([[1.99634437e+03, 4.10860927e+04],\n",
       "       [9.51428571e+01, 1.97428571e+05],\n",
       "       [1.36970030e+03, 1.56083086e+04],\n",
       "       [3.52661199e+02, 1.06638575e+03],\n",
       "       [2.85000000e+02, 6.40000000e+05]])"
      ]
     },
     "execution_count": 75,
     "metadata": {},
     "output_type": "execute_result"
    }
   ],
   "source": [
    "model.cluster_centers_"
   ]
  },
  {
   "cell_type": "markdown",
   "metadata": {},
   "source": [
    "# Pros and corns of Kmeans clustering"
   ]
  },
  {
   "cell_type": "markdown",
   "metadata": {},
   "source": [
    "#### Pros\n",
    "\n",
    "- Simple,understandable\n",
    "- Items are automatically assigned to clusters\n",
    "\n",
    "#### Cons\n",
    "\n",
    "- Must define number of cluster\n",
    "- All items are forced into clusters\n",
    "- Unable to handle noisy data and outliers"
   ]
  },
  {
   "cell_type": "markdown",
   "metadata": {},
   "source": [
    "# Fuzzy c-Means clustering"
   ]
  },
  {
   "cell_type": "markdown",
   "metadata": {},
   "source": [
    "- Fuzzy clustering is a form of clustering in which each data point can belong to more than one cluster.\n",
    "- K means tries to find the hard cluster ,whereas fuzzy c-means discovers the soft clusters"
   ]
  },
  {
   "cell_type": "markdown",
   "metadata": {},
   "source": [
    "In a softclustering ,any point can belong to more than one cluster with a certain affinity values towards each.FUZZY c-mean assigns the degree of membership(ranging from 0 to 1)of an object to a given cluster."
   ]
  },
  {
   "cell_type": "markdown",
   "metadata": {},
   "source": [
    "Note :- This clustering method is not widely used in industries"
   ]
  },
  {
   "cell_type": "markdown",
   "metadata": {},
   "source": [
    "### Pros and cons of Fuzzy c-Means clustering"
   ]
  },
  {
   "cell_type": "markdown",
   "metadata": {},
   "source": [
    "##### Pros\n",
    "- Allows a data point to be in multiple clusters\n",
    "- A more natural representation of the behavior of genes\n",
    "- Genes generally involved in multiple function\n",
    "\n",
    "##### Cons\n",
    "- Need to define C,the number of clusters\n",
    "- Need to determine membership cutoff value\n",
    "- clusters are sensitive to initial assignment of centroid\n",
    "- Fuzzy c-means is not a deterministic algorithm"
   ]
  },
  {
   "cell_type": "markdown",
   "metadata": {},
   "source": [
    "## Hierarchical clustering"
   ]
  },
  {
   "cell_type": "markdown",
   "metadata": {},
   "source": [
    "Hierarchical clustering is an alternative approach which builds a hierarchy from the bottom-up ,and does not require us to specify the number of cluster beforehand"
   ]
  },
  {
   "cell_type": "markdown",
   "metadata": {},
   "source": [
    "- In Hierarchical clustering ,at first every data points represent one cluster.\n",
    "- Identify the closest two clusters and combine them into one cluster.\n",
    "- Repeat the above steps till all the data points are in a single cluster"
   ]
  },
  {
   "cell_type": "markdown",
   "metadata": {},
   "source": [
    "##### what is Dendrogram ?\n",
    "\n",
    "A dendrogram is a tree diagram frequently used to illustrate the arrangment of the clusters produced by hierarchical clustering"
   ]
  },
  {
   "cell_type": "markdown",
   "metadata": {},
   "source": [
    "Note :- The y-axis in the dendrogram is the euclidean distance"
   ]
  },
  {
   "cell_type": "markdown",
   "metadata": {},
   "source": [
    "#### Distance measure\n",
    "\n",
    "This the process of finding out the distance between two clusters.There are many ways to calculate the distance between two clusters in a Dendrogram.\n",
    "\n",
    "- complete linkage clustering :-  In this process we find the maximum possiable distace between the data points of different distance\n",
    "\n",
    "- Single linkage clustering :- Find the minimum possiable distance between two points belonging to two different clusters\n",
    "\n",
    "- Mean linkage clustering :- Find all the possiable pairwise distance for the points belonging to two different clusters and then calculate the average\n",
    "\n",
    "- centroid linkage clustering :- Find the centroid of each cluster ,then find the distance between two centroids of those two clusters"
   ]
  },
  {
   "cell_type": "markdown",
   "metadata": {},
   "source": [
    "note :- The Mean linkage clustering is generally slow as compare to other distance measure.\n",
    "\n",
    "so we generally use Single linkage clustering or centroid linkage clustering"
   ]
  },
  {
   "cell_type": "markdown",
   "metadata": {},
   "source": [
    "#### How can a dendrogram tell me what is the optimal number of cluster?\n",
    "\n",
    "what is the longest vertical line not cut by horizantal line.\n",
    "\n",
    "- step 1 :- find out the longest perpendicular line that is cut by horizantal line.\n",
    "- step 2 :- Now we shoud cut the longest perpendicular line into 2 halfs\n",
    "\n",
    "### Why do we not use this clustering?\n",
    "\n",
    "when we have lot of data points ,then in this case the dendrogram become like a forest.As a result of which we can not get any meaningfull information from this type of clustering."
   ]
  },
  {
   "cell_type": "markdown",
   "metadata": {},
   "source": [
    "Generally this clustering is used to know the number of optimal cluster that can be formed on k means clustering.\n"
   ]
  },
  {
   "cell_type": "code",
   "execution_count": 84,
   "metadata": {},
   "outputs": [
    {
     "data": {
      "text/plain": [
       "Text(0, 0.5, 'euclidan distance')"
      ]
     },
     "execution_count": 84,
     "metadata": {},
     "output_type": "execute_result"
    },
    {
     "data": {
      "image/png": "[encoded data removed]",
      "text/plain": [
       "<Figure size 1440x720 with 1 Axes>"
      ]
     },
     "metadata": {
      "needs_background": "light"
     },
     "output_type": "display_data"
    }
   ],
   "source": [
    "from matplotlib.pylab import rcParams\n",
    "rcParams['figure.figsize']=20,10\n",
    "import scipy.cluster.hierarchy as sch\n",
    "dendrogram = sch.dendrogram(sch.linkage(x,method='complete'))\n",
    "plt.title(\"Dendrogram\")\n",
    "plt.xlabel('The data points')\n",
    "plt.ylabel(\"euclidan distance\")"
   ]
  },
  {
   "cell_type": "code",
   "execution_count": 85,
   "metadata": {},
   "outputs": [],
   "source": [
    "from sklearn.cluster import AgglomerativeClustering\n",
    "hc = AgglomerativeClustering(n_clusters=2,affinity='euclidean',linkage='ward')\n",
    "y_hc = hc.fit_predict(x)"
   ]
  },
  {
   "cell_type": "code",
   "execution_count": 86,
   "metadata": {},
   "outputs": [
    {
     "data": {
      "text/plain": [
       "array([0, 0, 0, ..., 0, 0, 0])"
      ]
     },
     "execution_count": 86,
     "metadata": {},
     "output_type": "execute_result"
    }
   ],
   "source": [
    "y_hc"
   ]
  }
 ],
 "metadata": {
  "kernelspec": {
   "display_name": "Python 3",
   "language": "python",
   "name": "python3"
  },
  "language_info": {
   "codemirror_mode": {
    "name": "ipython",
    "version": 3
   },
   "file_extension": ".py",
   "mimetype": "text/x-python",
   "name": "python",
   "nbconvert_exporter": "python",
   "pygments_lexer": "ipython3",
   "version": "3.7.5"
  }
 },
 "nbformat": 4,
 "nbformat_minor": 2
}
