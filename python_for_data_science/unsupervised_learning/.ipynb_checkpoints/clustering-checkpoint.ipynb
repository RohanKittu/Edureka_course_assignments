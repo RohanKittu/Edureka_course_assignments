{
 "cells": [
  {
   "cell_type": "markdown",
   "metadata": {},
   "source": [
    "# Unsupervised Learning\n",
    "\n",
    "Finding patterns in the labelled or un labelled data. \n",
    "\n",
    "Note :- In unspervised learning ,we do not have predicter and target variable.We will have only set of labelled or unlabelled data.\n",
    "\n",
    "By using unsupervised learning ,we can create classes among the data by forming various clusters.\n",
    "\n",
    "Its also know as data mining tech.\n",
    "\n",
    "##### What is clustering?\n",
    "\n",
    "clustering means grouping of objects based on the information found in the data,describe the object and their relationship.\n",
    "\n",
    "The goal is that objects in one group will be similar to one other and different from objects in another group.\n"
   ]
  },
  {
   "cell_type": "markdown",
   "metadata": {},
   "source": [
    "##### clustering on numerical data"
   ]
  },
  {
   "cell_type": "markdown",
   "metadata": {},
   "source": [
    "Note :- The coordinates on the graph depend up on the number of features(variables)in the data.Ex :- If we have three features ,the coordinates of the particular point could be q(x,y,z)."
   ]
  },
  {
   "cell_type": "markdown",
   "metadata": {},
   "source": [
    "##### K means clustering"
   ]
  },
  {
   "cell_type": "code",
   "execution_count": null,
   "metadata": {},
   "outputs": [],
   "source": []
  }
 ],
 "metadata": {
  "kernelspec": {
   "display_name": "Python 3",
   "language": "python",
   "name": "python3"
  },
  "language_info": {
   "codemirror_mode": {
    "name": "ipython",
    "version": 3
   },
   "file_extension": ".py",
   "mimetype": "text/x-python",
   "name": "python",
   "nbconvert_exporter": "python",
   "pygments_lexer": "ipython3",
   "version": "3.7.5"
  }
 },
 "nbformat": 4,
 "nbformat_minor": 2
}
