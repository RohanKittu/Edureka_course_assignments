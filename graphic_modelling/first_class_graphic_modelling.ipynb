{
 "cells": [
  {
   "cell_type": "markdown",
   "metadata": {},
   "source": [
    "## Demo 1 :\n",
    "\n",
    "A potential investor examined the relationship between the market performance and the colleges from which fund managers have graduated.'\n",
    "In this demo ,we will cover three types of probability distributions\n",
    "\n",
    "- joint probability Distributions\n",
    "- Marginal probability distributions\n",
    "- conditional probability distribution"
   ]
  },
  {
   "cell_type": "markdown",
   "metadata": {},
   "source": [
    "we are going to use PgmPy library\n",
    "\n",
    "- TabluarCPD is the conditional probability distribution table.\n",
    "- TabularCPD (variable ,variable_card ,values,evidence=None,evidence_card=None)\n",
    "\n",
    "In this example ,variable is Marketperformances which is based on the evidence variable program where variable card and Evidence card define the cardinality of each variable i.e for example MarketPerformance(with cardinatility of 2)can be Good or poor Performance"
   ]
  },
  {
   "cell_type": "code",
   "execution_count": 55,
   "metadata": {},
   "outputs": [],
   "source": [
    "from pgmpy.factors.discrete import TabularCPD"
   ]
  },
  {
   "cell_type": "markdown",
   "metadata": {},
   "source": [
    "- Market performance :- how good a person is performing\n",
    "\n",
    "- Program :- from where the person did his MBA"
   ]
  },
  {
   "cell_type": "code",
   "execution_count": 56,
   "metadata": {},
   "outputs": [],
   "source": [
    "cpd=TabularCPD('MarketPerformance',2,[[0.11,0.06],[0.29,0.54]],evidence=['program'],evidence_card=[2])"
   ]
  },
  {
   "cell_type": "code",
   "execution_count": 57,
   "metadata": {},
   "outputs": [
    {
     "name": "stdout",
     "output_type": "stream",
     "text": [
      "+----------------------+------------+------------+\n",
      "| program              | program(0) | program(1) |\n",
      "+----------------------+------------+------------+\n",
      "| MarketPerformance(0) | 0.11       | 0.06       |\n",
      "+----------------------+------------+------------+\n",
      "| MarketPerformance(1) | 0.29       | 0.54       |\n",
      "+----------------------+------------+------------+\n"
     ]
    }
   ],
   "source": [
    "print(cpd)"
   ]
  },
  {
   "cell_type": "markdown",
   "metadata": {},
   "source": [
    "## understanding joint probability distribution"
   ]
  },
  {
   "cell_type": "code",
   "execution_count": 58,
   "metadata": {},
   "outputs": [
    {
     "name": "stdout",
     "output_type": "stream",
     "text": [
      "+----------------------+------------+------------+\n",
      "| program              | program(0) | program(1) |\n",
      "+----------------------+------------+------------+\n",
      "| MarketPerformance(0) | 0.11       | 0.06       |\n",
      "+----------------------+------------+------------+\n",
      "| MarketPerformance(1) | 0.29       | 0.54       |\n",
      "+----------------------+------------+------------+\n"
     ]
    }
   ],
   "source": [
    "print(cpd)"
   ]
  },
  {
   "cell_type": "markdown",
   "metadata": {},
   "source": [
    "- Marketperformance_0  is poor\n",
    "- MarketPerformance_1 is Good\n",
    "- Program_0 is other colleges\n",
    "- Program_1 is Top 20 MBA colleges"
   ]
  },
  {
   "cell_type": "code",
   "execution_count": 59,
   "metadata": {},
   "outputs": [],
   "source": [
    "cpd=TabularCPD('grade',2,[[0.7,0.6,0.6,0.2],[0.3,0.4,0.4,0.8]],evidence=['intel','diff'],evidence_card=[2,2])"
   ]
  },
  {
   "cell_type": "code",
   "execution_count": 60,
   "metadata": {},
   "outputs": [
    {
     "name": "stdout",
     "output_type": "stream",
     "text": [
      "+----------+----------+----------+----------+----------+\n",
      "| intel    | intel(0) | intel(0) | intel(1) | intel(1) |\n",
      "+----------+----------+----------+----------+----------+\n",
      "| diff     | diff(0)  | diff(1)  | diff(0)  | diff(1)  |\n",
      "+----------+----------+----------+----------+----------+\n",
      "| grade(0) | 0.7      | 0.6      | 0.6      | 0.2      |\n",
      "+----------+----------+----------+----------+----------+\n",
      "| grade(1) | 0.3      | 0.4      | 0.4      | 0.8      |\n",
      "+----------+----------+----------+----------+----------+\n"
     ]
    }
   ],
   "source": [
    "print(cpd)"
   ]
  },
  {
   "cell_type": "code",
   "execution_count": 61,
   "metadata": {},
   "outputs": [
    {
     "data": {
      "text/plain": [
       "['grade', 'intel', 'diff']"
      ]
     },
     "execution_count": 61,
     "metadata": {},
     "output_type": "execute_result"
    }
   ],
   "source": [
    "cpd.variables"
   ]
  },
  {
   "cell_type": "code",
   "execution_count": 62,
   "metadata": {},
   "outputs": [
    {
     "data": {
      "text/plain": [
       "array([2, 2, 2])"
      ]
     },
     "execution_count": 62,
     "metadata": {},
     "output_type": "execute_result"
    }
   ],
   "source": [
    "cpd.cardinality"
   ]
  },
  {
   "cell_type": "code",
   "execution_count": 63,
   "metadata": {},
   "outputs": [],
   "source": [
    "from pgmpy.factors.discrete import JointProbabilityDistribution as JDP"
   ]
  },
  {
   "cell_type": "code",
   "execution_count": 64,
   "metadata": {},
   "outputs": [],
   "source": [
    "prob = JDP(['I','D','G'],[2,2,3],[0.126,0.168,0.126,0.009,0.045,0.126,0.252,0.0224,0.0056,0.06,0.036,0.024])"
   ]
  },
  {
   "cell_type": "code",
   "execution_count": 65,
   "metadata": {},
   "outputs": [
    {
     "name": "stdout",
     "output_type": "stream",
     "text": [
      "+------+------+------+------------+\n",
      "| I    | D    | G    |   P(I,D,G) |\n",
      "+======+======+======+============+\n",
      "| I(0) | D(0) | G(0) |     0.1260 |\n",
      "+------+------+------+------------+\n",
      "| I(0) | D(0) | G(1) |     0.1680 |\n",
      "+------+------+------+------------+\n",
      "| I(0) | D(0) | G(2) |     0.1260 |\n",
      "+------+------+------+------------+\n",
      "| I(0) | D(1) | G(0) |     0.0090 |\n",
      "+------+------+------+------------+\n",
      "| I(0) | D(1) | G(1) |     0.0450 |\n",
      "+------+------+------+------------+\n",
      "| I(0) | D(1) | G(2) |     0.1260 |\n",
      "+------+------+------+------------+\n",
      "| I(1) | D(0) | G(0) |     0.2520 |\n",
      "+------+------+------+------------+\n",
      "| I(1) | D(0) | G(1) |     0.0224 |\n",
      "+------+------+------+------------+\n",
      "| I(1) | D(0) | G(2) |     0.0056 |\n",
      "+------+------+------+------------+\n",
      "| I(1) | D(1) | G(0) |     0.0600 |\n",
      "+------+------+------+------------+\n",
      "| I(1) | D(1) | G(1) |     0.0360 |\n",
      "+------+------+------+------------+\n",
      "| I(1) | D(1) | G(2) |     0.0240 |\n",
      "+------+------+------+------------+\n"
     ]
    }
   ],
   "source": [
    "print(prob)"
   ]
  },
  {
   "cell_type": "markdown",
   "metadata": {},
   "source": [
    "checking whether two variables are independent or dependent variables"
   ]
  },
  {
   "cell_type": "code",
   "execution_count": 66,
   "metadata": {},
   "outputs": [
    {
     "data": {
      "text/plain": [
       "True"
      ]
     },
     "execution_count": 66,
     "metadata": {},
     "output_type": "execute_result"
    }
   ],
   "source": [
    "prob.check_independence(['I'],['D'])"
   ]
  },
  {
   "cell_type": "code",
   "execution_count": 67,
   "metadata": {},
   "outputs": [
    {
     "data": {
      "text/plain": [
       "(I _|_ D)"
      ]
     },
     "execution_count": 67,
     "metadata": {},
     "output_type": "execute_result"
    }
   ],
   "source": [
    "prob.get_independencies()"
   ]
  },
  {
   "cell_type": "markdown",
   "metadata": {},
   "source": [
    "# Demo 2"
   ]
  },
  {
   "cell_type": "markdown",
   "metadata": {},
   "source": [
    "Dataset : Purchase Behavior dataset consists of the details about all the customers who walked into a showroom and whether they have purchased a car or not.Dataset Description\n",
    "\n",
    "- User Id :- Uniquely identify each user\n",
    "- Gender :- potential customers gender (Males/Females)\n",
    "- Age :- Age of the potential customers\n",
    "- Estimated salary :- The salary as provided by the customers \n",
    "- Purchased :- The important variable which indicates if the customer has purchased the car or not.0 indicates the person has not purchased the car and 1 indicates the person has purchased the car\n",
    "\n",
    "Objective :- Identify probability of purchase of a car given a person 's data on his/her gender and age as per the dataset provided above"
   ]
  },
  {
   "cell_type": "code",
   "execution_count": null,
   "metadata": {},
   "outputs": [],
   "source": [
    "import pandas as pd\n",
    "data = pd.read_csv('')"
   ]
  }
 ],
 "metadata": {
  "kernelspec": {
   "display_name": "Python 3",
   "language": "python",
   "name": "python3"
  },
  "language_info": {
   "codemirror_mode": {
    "name": "ipython",
    "version": 3
   },
   "file_extension": ".py",
   "mimetype": "text/x-python",
   "name": "python",
   "nbconvert_exporter": "python",
   "pygments_lexer": "ipython3",
   "version": "3.7.5"
  }
 },
 "nbformat": 4,
 "nbformat_minor": 2
}
